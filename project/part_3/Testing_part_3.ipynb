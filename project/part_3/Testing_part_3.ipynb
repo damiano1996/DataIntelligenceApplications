{
 "cells": [
  {
   "cell_type": "markdown",
   "source": [
    "The goal is modeling a scenario in which a seller exploits advertising tools to attract more and more users to its website, thus increasing the number of possible buyers. The seller needs to learn simultaneously the conversion rate and the number of users the advertising tools can attract.\n",
    "\n",
    "1) Imagine:\n",
    "    - one product to sell;\n",
    "    - three classes of users, where, for every user, we can observe the values of two binary features (feel free to choose the features and their domains);\n",
    "    - the conversion rate curve of each class of users;\n",
    "    - three subcampaigns, each with a different ad, to advertise the product, and each targeting a different class of users;\n",
    "    - there are three abrupt phases;\n",
    "    - for every abrupt phase and for every subcampaign, the probability distribution over the daily number of clicks for every value of budget allocated to that subcampaign.\n",
    "\n",
    "3) Design a sliding-window combinatorial bandit algorithm for the case, instead, in which there are the three phases aforementioned.\n",
    "Plot the cumulative regret and compare it with the cumulative regret that a non-sliding-window algorithm would obtain.\n",
    "\n",
    "\n",
    "9 curve, 3 fasi"
   ],
   "metadata": {
    "collapsed": false,
    "pycharm": {
     "name": "#%% md\n"
    }
   }
  },
  {
   "cell_type": "code",
   "execution_count": 4,
   "outputs": [],
   "source": [
    "import numpy as np\n",
    "import pandas as pd\n",
    "\n",
    "import multiprocessing\n",
    "from multiprocessing import Pool\n",
    "\n",
    "from project.dia_pckg.plot_style.cb91visuals import *\n",
    "from project.part_2.Optimizer import fit_table\n",
    "from project.part_2.GPTS_Learner import GPTS_Learner as Learner\n",
    "from project.part_3.AbruptBiddingEnvironment import AbruptBiddingEnvironment\n",
    "from project.part_3.DynamicLearner import DynamicLearner\n",
    "from project.part_3.Learning_experiment import execute_experiment\n",
    "\n",
    "\n",
    "\n"
   ],
   "metadata": {
    "collapsed": false,
    "pycharm": {
     "name": "#%%\n"
    }
   }
  },
  {
   "cell_type": "code",
   "execution_count": 5,
   "outputs": [
    {
     "name": "stdout",
     "output_type": "stream",
     "text": [
      "[2.9 5.6 8.4]\n",
      "[1.   0.99 0.56]\n",
      "[12.1  1.7  3.9]\n",
      "[1. 1. 1.]\n",
      "[16.6  6.3 16.4]\n",
      "[1.   0.94 1.  ]\n"
     ]
    }
   ],
   "source": [
    "np.random.seed(72)\n",
    "n_phases = 3\n",
    "len_window = 40\n",
    "phaselen = 60\n",
    "n_obs = 180 #3 abrupt phase\n",
    "print_span = 60 #ogni quanti giorni printare i grafici\n",
    "\n",
    "init_days = 1 #primi giorni si pullano gli arm in modo casuale senza pensare al reward massimo\n",
    "random_sampling = 5\n",
    "\n",
    "n_subcamp = 3\n",
    "\n",
    "max_bid = 1\n",
    "max_clicks = 100\n",
    "n_arms = 11\n",
    "\n",
    "noise_std = 0.0\n",
    "\n",
    "bids = np.linspace(0, max_bid, n_arms)\n",
    "\n",
    "env = AbruptBiddingEnvironment(bids,max_clicks,noise_std,phaselen, n_phases)"
   ],
   "metadata": {
    "collapsed": false,
    "pycharm": {
     "name": "#%%\n"
    }
   }
  },
  {
   "cell_type": "code",
   "execution_count": 6,
   "outputs": [
    {
     "ename": "IndexError",
     "evalue": "list index out of range",
     "output_type": "error",
     "traceback": [
      "\u001B[0;31m---------------------------------------------------------------------------\u001B[0m",
      "\u001B[0;31mRemoteTraceback\u001B[0m                           Traceback (most recent call last)",
      "\u001B[0;31mRemoteTraceback\u001B[0m: \n\"\"\"\nTraceback (most recent call last):\n  File \"/Users/08volt/.conda/envs/DataIntelligenceApplications/lib/python3.8/multiprocessing/pool.py\", line 125, in worker\n    result = (True, func(*args, **kwds))\n  File \"/Users/08volt/.conda/envs/DataIntelligenceApplications/lib/python3.8/multiprocessing/pool.py\", line 48, in mapstar\n    return list(map(*args))\n  File \"/Users/08volt/PycharmProjects/DataIntelligenceApplications/project/part_3/Learning_experiment.py\", line 46, in execute_experiment\n    learners[x].update(pulled[x], clicks[x])\n  File \"/Users/08volt/PycharmProjects/DataIntelligenceApplications/project/part_2/GPTS_Learner.py\", line 58, in update\n    self.update_observations(pulled_arm, reward)\n  File \"/Users/08volt/PycharmProjects/DataIntelligenceApplications/project/part_2/GPTS_Learner.py\", line 29, in update_observations\n    self.rewards_per_arm[arm_idx].append(reward)\nIndexError: list index out of range\n\"\"\"",
      "\nThe above exception was the direct cause of the following exception:\n",
      "\u001B[0;31mIndexError\u001B[0m                                Traceback (most recent call last)",
      "\u001B[0;32m<ipython-input-6-04abe43c8c63>\u001B[0m in \u001B[0;36m<module>\u001B[0;34m\u001B[0m\n\u001B[1;32m     19\u001B[0m \u001B[0;34m\u001B[0m\u001B[0m\n\u001B[1;32m     20\u001B[0m \u001B[0;32mwith\u001B[0m \u001B[0mPool\u001B[0m\u001B[0;34m(\u001B[0m\u001B[0;36m5\u001B[0m\u001B[0;34m)\u001B[0m \u001B[0;32mas\u001B[0m \u001B[0mp\u001B[0m\u001B[0;34m:\u001B[0m\u001B[0;34m\u001B[0m\u001B[0;34m\u001B[0m\u001B[0m\n\u001B[0;32m---> 21\u001B[0;31m     \u001B[0mres\u001B[0m \u001B[0;34m=\u001B[0m \u001B[0mp\u001B[0m\u001B[0;34m.\u001B[0m\u001B[0mmap\u001B[0m\u001B[0;34m(\u001B[0m\u001B[0mexecute_experiment\u001B[0m\u001B[0;34m,\u001B[0m \u001B[0;34m[\u001B[0m\u001B[0margs1\u001B[0m\u001B[0;34m]\u001B[0m\u001B[0;34m)\u001B[0m\u001B[0;34m\u001B[0m\u001B[0;34m\u001B[0m\u001B[0m\n\u001B[0m\u001B[1;32m     22\u001B[0m \u001B[0;34m\u001B[0m\u001B[0m\n\u001B[1;32m     23\u001B[0m \u001B[0mprint\u001B[0m\u001B[0;34m(\u001B[0m\u001B[0mres\u001B[0m\u001B[0;34m)\u001B[0m\u001B[0;34m\u001B[0m\u001B[0;34m\u001B[0m\u001B[0m\n",
      "\u001B[0;32m~/.conda/envs/DataIntelligenceApplications/lib/python3.8/multiprocessing/pool.py\u001B[0m in \u001B[0;36mmap\u001B[0;34m(self, func, iterable, chunksize)\u001B[0m\n\u001B[1;32m    362\u001B[0m         \u001B[0;32min\u001B[0m \u001B[0ma\u001B[0m \u001B[0mlist\u001B[0m \u001B[0mthat\u001B[0m \u001B[0;32mis\u001B[0m \u001B[0mreturned\u001B[0m\u001B[0;34m.\u001B[0m\u001B[0;34m\u001B[0m\u001B[0;34m\u001B[0m\u001B[0m\n\u001B[1;32m    363\u001B[0m         '''\n\u001B[0;32m--> 364\u001B[0;31m         \u001B[0;32mreturn\u001B[0m \u001B[0mself\u001B[0m\u001B[0;34m.\u001B[0m\u001B[0m_map_async\u001B[0m\u001B[0;34m(\u001B[0m\u001B[0mfunc\u001B[0m\u001B[0;34m,\u001B[0m \u001B[0miterable\u001B[0m\u001B[0;34m,\u001B[0m \u001B[0mmapstar\u001B[0m\u001B[0;34m,\u001B[0m \u001B[0mchunksize\u001B[0m\u001B[0;34m)\u001B[0m\u001B[0;34m.\u001B[0m\u001B[0mget\u001B[0m\u001B[0;34m(\u001B[0m\u001B[0;34m)\u001B[0m\u001B[0;34m\u001B[0m\u001B[0;34m\u001B[0m\u001B[0m\n\u001B[0m\u001B[1;32m    365\u001B[0m \u001B[0;34m\u001B[0m\u001B[0m\n\u001B[1;32m    366\u001B[0m     \u001B[0;32mdef\u001B[0m \u001B[0mstarmap\u001B[0m\u001B[0;34m(\u001B[0m\u001B[0mself\u001B[0m\u001B[0;34m,\u001B[0m \u001B[0mfunc\u001B[0m\u001B[0;34m,\u001B[0m \u001B[0miterable\u001B[0m\u001B[0;34m,\u001B[0m \u001B[0mchunksize\u001B[0m\u001B[0;34m=\u001B[0m\u001B[0;32mNone\u001B[0m\u001B[0;34m)\u001B[0m\u001B[0;34m:\u001B[0m\u001B[0;34m\u001B[0m\u001B[0;34m\u001B[0m\u001B[0m\n",
      "\u001B[0;32m~/.conda/envs/DataIntelligenceApplications/lib/python3.8/multiprocessing/pool.py\u001B[0m in \u001B[0;36mget\u001B[0;34m(self, timeout)\u001B[0m\n\u001B[1;32m    769\u001B[0m             \u001B[0;32mreturn\u001B[0m \u001B[0mself\u001B[0m\u001B[0;34m.\u001B[0m\u001B[0m_value\u001B[0m\u001B[0;34m\u001B[0m\u001B[0;34m\u001B[0m\u001B[0m\n\u001B[1;32m    770\u001B[0m         \u001B[0;32melse\u001B[0m\u001B[0;34m:\u001B[0m\u001B[0;34m\u001B[0m\u001B[0;34m\u001B[0m\u001B[0m\n\u001B[0;32m--> 771\u001B[0;31m             \u001B[0;32mraise\u001B[0m \u001B[0mself\u001B[0m\u001B[0;34m.\u001B[0m\u001B[0m_value\u001B[0m\u001B[0;34m\u001B[0m\u001B[0;34m\u001B[0m\u001B[0m\n\u001B[0m\u001B[1;32m    772\u001B[0m \u001B[0;34m\u001B[0m\u001B[0m\n\u001B[1;32m    773\u001B[0m     \u001B[0;32mdef\u001B[0m \u001B[0m_set\u001B[0m\u001B[0;34m(\u001B[0m\u001B[0mself\u001B[0m\u001B[0;34m,\u001B[0m \u001B[0mi\u001B[0m\u001B[0;34m,\u001B[0m \u001B[0mobj\u001B[0m\u001B[0;34m)\u001B[0m\u001B[0;34m:\u001B[0m\u001B[0;34m\u001B[0m\u001B[0;34m\u001B[0m\u001B[0m\n",
      "\u001B[0;31mIndexError\u001B[0m: list index out of range"
     ]
    }
   ],
   "source": [
    "\n",
    "args1= {}\n",
    "args1['learner'] = Learner\n",
    "args1['environment'] = env\n",
    "args1['bids'] = bids\n",
    "args1['n_subcamp'] = n_subcamp\n",
    "args1['n_arms'] = n_arms\n",
    "args1['n_obs'] = n_obs\n",
    "args1['print_span'] = print_span\n",
    "\n",
    "\n",
    "args2= {}\n",
    "args2['learner'] = DynamicLearner\n",
    "args2['environment'] = env\n",
    "args2['bids'] = bids\n",
    "args2['n_subcamp'] = n_subcamp\n",
    "args2['n_arms'] = n_arms\n",
    "args2['n_obs'] = n_obs\n",
    "args2['print_span'] = print_span\n",
    "\n",
    "with Pool(5) as p:\n",
    "    basic_total_click_each_day,sw_total_click_each_day = p.map(execute_experiment, [args1, args2])\n"
   ],
   "metadata": {
    "collapsed": false,
    "pycharm": {
     "name": "#%% ex parallel\n"
    }
   }
  },
  {
   "cell_type": "code",
   "execution_count": null,
   "outputs": [],
   "source": [
    "# sw_total_click_each_day  = pd.DataFrame(columns=['bid_sub1', 'bid_sub2', 'bid_sub3',\"click1\",\"click2\",\"click3\"])\n",
    "# env.reset()\n",
    "#\n",
    "#\n",
    "# sw_learners = []\n",
    "#\n",
    "#\n",
    "# for i in range(0, n_subcamp):\n",
    "#     sw_learners.append(DynamicLearner(n_arms,bids,len_window))\n",
    "\n",
    "# print(f'PHASES OF {env.phaselen} DAYS\\n{n_obs} TOTAL OBSERVATION')\n",
    "#\n",
    "#\n",
    "#\n",
    "# for d in range(0, n_obs):\n",
    "#     pulled = [0,0,0]\n",
    "#     #per i primi init_days giorni si pullano in modo causale, successivamente si usa la tabella\n",
    "#     if init_days > 0: #or d % random_sampling == 0: #or d % int(len_window/2) == 0:\n",
    "#         init_days = init_days - 1\n",
    "#         first = d % 3\n",
    "#         pulled[first] = 9#sw_learners[first].pull_arm()\n",
    "#         pulled[(first + 1 )% 3] = 9#np.random.randint(0,n_arms - pulled[first])\n",
    "    #     pulled[(first + 2 )% 3] = 9#n_arms - pulled[first] - pulled[(first + 1 )% 3] - 1\n",
    "    # else:\n",
    "    #     #uso l'algoritmo della tabella per selezionare gli arm che mi danno un reward massimo\n",
    "    #     table_all_Subs = np.ndarray(shape=(0,len(bids)), dtype=float)\n",
    "    #     for l in sw_learners:\n",
    "    #         table_all_Subs = np.append(table_all_Subs,np.atleast_2d(l.means.T),0)\n",
    "    #     pulled = fit_table(table_all_Subs)[0]\n",
    "    #\n",
    "    #\n",
    "    # clicks = env.round(pulled[0],pulled[1],pulled[2])\n",
    "    #\n",
    "    #\n",
    "    # for x in range(0,n_subcamp):\n",
    "    #     sw_learners[x].update(pulled[x], clicks[x])\n",
    "    # sw_total_click_each_day = sw_total_click_each_day.append({\n",
    "    #     'bid_sub1':pulled[0],\n",
    "    #     'bid_sub2':pulled[1],\n",
    "    #     'bid_sub3':pulled[2],\n",
    "    #     \"click1\":clicks[0],\n",
    "    #     \"click2\":clicks[1],\n",
    "    #     \"click3\":clicks[2]\n",
    "    # }, ignore_index=True)\n",
    "    #\n",
    "    # if (d+1) % print_span == 0:\n",
    "    #     print(f\"DAY: {d}\\nPULLED:{pulled}\\nCLICKS: {clicks}\\nTOT: {clicks.sum()}\\n\")\n"
   ],
   "metadata": {
    "collapsed": false,
    "pycharm": {
     "name": "#%% DYNAMIC LEARNER\n"
    }
   }
  },
  {
   "cell_type": "code",
   "source": [
    "# basic_total_click_each_day  = pd.DataFrame(columns=['bid_sub1', 'bid_sub2', 'bid_sub3',\"click1\",\"click2\",\"click3\"])\n",
    "# #env = AbruptBiddingEnvironment(bids,max_clicks,noise_std,phaselen, n_phases)\n",
    "# env.reset()\n",
    "# init_days = 1\n",
    "# learners = []\n",
    "#\n",
    "# for i in range(0, n_subcamp):\n",
    "#     learners.append(Learner(n_arms,bids))\n",
    "#\n",
    "# for d in range(0, n_obs):\n",
    "#     pulled = [0,0,0]\n",
    "#     #per i primi init_days giorni si pullano in modo causale, successivamente si usa la tabella\n",
    "#     if init_days > 0: #or d % random_sampling == 0: #or d % int(len_window/2) == 0:\n",
    "#         init_days = init_days - 1\n",
    "#         first = d % 3\n",
    "#         pulled[first] = 9#learners[first].pull_arm()\n",
    "#         pulled[(first + 1 )% 3] = 9#np.random.randint(0,n_arms - pulled[first])\n",
    "#         pulled[(first + 2 )% 3] = 9#n_arms - pulled[first] - pulled[(first + 1 )% 3] - 1\n",
    "#     else:\n",
    "#         #uso l'algoritmo della tabella per selezionare gli arm che mi danno un reward massimo\n",
    "#         table_all_Subs = np.ndarray(shape=(0,len(bids)), dtype=float)\n",
    "#         for l in learners:\n",
    "#             table_all_Subs = np.append(table_all_Subs,np.atleast_2d(l.means.T),0)\n",
    "#         pulled = fit_table(table_all_Subs)[0]\n",
    "#\n",
    "#\n",
    "#     clicks = env.round(pulled[0],pulled[1],pulled[2])\n",
    "#\n",
    "#\n",
    "#     for x in range(0,n_subcamp):\n",
    "#         learners[x].update(pulled[x], clicks[x])\n",
    "#\n",
    "#     basic_total_click_each_day = basic_total_click_each_day.append({\n",
    "#         'bid_sub1':pulled[0],\n",
    "#         'bid_sub2':pulled[1],\n",
    "#         'bid_sub3':pulled[2],\n",
    "#         \"click1\":clicks[0],\n",
    "#         \"click2\":clicks[1],\n",
    "#         \"click3\":clicks[2]\n",
    "#     }, ignore_index=True)\n",
    "#\n",
    "#     if (d+1) % print_span == 0:\n",
    "#         #TIME TO PRINT THE PLOTS\n",
    "#         print(f\"DAY: {d}\\nPULLED:{pulled}\\nCLICKS: {clicks}\\nTOT: {clicks.sum()}\\n\")\n",
    "\n"
   ],
   "metadata": {
    "collapsed": false,
    "pycharm": {
     "name": "#%% STATIC LEARNER BASIC\n"
    }
   },
   "execution_count": null,
   "outputs": []
  },
  {
   "cell_type": "code",
   "execution_count": null,
   "outputs": [],
   "source": [
    "clicks_opt = np.array([])\n",
    "\n",
    "for p in range(0,n_phases):\n",
    "    all_optimal_subs = np.ndarray(shape=(0,len(bids)), dtype=float)\n",
    "    for i in range(0,n_subcamp):\n",
    "        all_optimal_subs = np.append(all_optimal_subs,np.atleast_2d(env.subs[i](bids,p)),0)\n",
    "    opt = fit_table(all_optimal_subs)[1]\n",
    "    for days in range(0,phaselen):\n",
    "        clicks_opt = np.append(clicks_opt, opt)\n",
    "\n",
    "\n",
    "\n",
    "\n",
    "sw_clicks_obtained = sw_total_click_each_day[\"click1\"] + \\\n",
    "                  sw_total_click_each_day[\"click2\"] + \\\n",
    "                  sw_total_click_each_day[\"click3\"]\n",
    "\n",
    "\n",
    "\n",
    "basic_clicks_obtained = basic_total_click_each_day[\"click1\"] + \\\n",
    "                  basic_total_click_each_day[\"click2\"] + \\\n",
    "                  basic_total_click_each_day[\"click3\"]\n",
    "\n",
    "\n",
    "np.cumsum(clicks_opt - sw_clicks_obtained).plot(label=\"Sliding window\")\n",
    "np.cumsum(clicks_opt - basic_clicks_obtained).plot(color=\"green\", label=\"Without sw\")\n",
    "plt.legend(loc='lower right')\n",
    "plt.show()\n",
    "\n",
    "plt.show()\n"
   ],
   "metadata": {
    "collapsed": false,
    "pycharm": {
     "name": "#%% REGRET\n"
    }
   }
  },
  {
   "cell_type": "code",
   "source": [
    "print(\"SLIDING WINDOWS\")\n",
    "print(sum(sw_clicks_obtained))\n",
    "\n",
    "print(\"\\n\\nWITHOUT SLIDING WINDOWS\")\n",
    "print(sum(basic_clicks_obtained))"
   ],
   "metadata": {
    "collapsed": false,
    "pycharm": {
     "name": "#%%\n"
    }
   },
   "execution_count": null,
   "outputs": []
  }
 ],
 "metadata": {
  "kernelspec": {
   "display_name": "Python 3",
   "language": "python",
   "name": "python3"
  },
  "language_info": {
   "codemirror_mode": {
    "name": "ipython",
    "version": 2
   },
   "file_extension": ".py",
   "mimetype": "text/x-python",
   "name": "python",
   "nbconvert_exporter": "python",
   "pygments_lexer": "ipython2",
   "version": "2.7.6"
  }
 },
 "nbformat": 4,
 "nbformat_minor": 0
}