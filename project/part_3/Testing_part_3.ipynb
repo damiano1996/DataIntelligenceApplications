{
 "cells": [
  {
   "cell_type": "markdown",
   "source": [
    "The goal is modeling a scenario in which a seller exploits advertising tools to attract more and more users to its website, thus increasing the number of possible buyers. The seller needs to learn simultaneously the conversion rate and the number of users the advertising tools can attract.\n",
    "\n",
    "1) Imagine:\n",
    "    - one product to sell;\n",
    "    - three classes of users, where, for every user, we can observe the values of two binary features (feel free to choose the features and their domains);\n",
    "    - the conversion rate curve of each class of users;\n",
    "    - three subcampaigns, each with a different ad, to advertise the product, and each targeting a different class of users;\n",
    "    - there are three abrupt phases;\n",
    "    - for every abrupt phase and for every subcampaign, the probability distribution over the daily number of clicks for every value of budget allocated to that subcampaign.\n",
    "\n",
    "3) Design a sliding-window combinatorial bandit algorithm for the case, instead, in which there are the three phases aforementioned.\n",
    "Plot the cumulative regret and compare it with the cumulative regret that a non-sliding-window algorithm would obtain.\n",
    "\n",
    "\n",
    "9 curve, 3 fasi"
   ],
   "metadata": {
    "collapsed": false,
    "pycharm": {
     "name": "#%% md\n"
    }
   }
  },
  {
   "cell_type": "code",
   "execution_count": 1,
   "outputs": [],
   "source": [
    "import numpy as np\n",
    "import pandas as pd\n",
    "\n",
    "from project.dia_pckg.plot_style.cb91visuals import *\n",
    "from project.part_2.Optimizer import fit_table\n",
    "from project.part_2.GPTS_Learner import GPTS_Learner as Learner\n",
    "from project.part_3.AbruptBiddingEnvironment import AbruptBiddingEnvironment\n",
    "from project.part_3.DynamicLearner import DynamicLearner"
   ],
   "metadata": {
    "collapsed": false,
    "pycharm": {
     "name": "#%%\n"
    }
   }
  },
  {
   "cell_type": "code",
   "execution_count": 2,
   "outputs": [],
   "source": [
    "np.random.seed(72)\n",
    "n_phases = 3\n",
    "len_window = 40\n",
    "phaselen = 60\n",
    "n_obs = 180 #3 abrupt phase\n",
    "print_span = 60 #ogni quanti giorni printare i grafici\n",
    "\n",
    "init_days = 20 #primi giorni si pullano gli arm in modo casuale senza pensare al reward massimo\n",
    "random_sampling = 5\n",
    "\n",
    "n_subcamp = 3\n",
    "\n",
    "max_bid = 1\n",
    "max_clicks = 100\n",
    "n_arms = 11\n",
    "\n",
    "noise_std = 0.0\n",
    "\n",
    "bids = np.linspace(0, max_bid, n_arms)"
   ],
   "metadata": {
    "collapsed": false,
    "pycharm": {
     "name": "#%%\n"
    }
   }
  },
  {
   "cell_type": "code",
   "source": [
    "sw_total_click_each_day  = pd.DataFrame(columns=['bid_sub1', 'bid_sub2', 'bid_sub3',\"click1\",\"click2\",\"click3\"])\n",
    "\n",
    "\n",
    "env = AbruptBiddingEnvironment(bids,max_clicks,noise_std,phaselen, n_phases)\n",
    "\n",
    "sw_learners = []\n",
    "\n",
    "\n",
    "for i in range(0, n_subcamp):\n",
    "    sw_learners.append(DynamicLearner(n_arms,bids,len_window))\n",
    "\n",
    "print(f'PHASES OF {env.phaselen} DAYS\\n{n_obs} TOTAL OBSERVATION')\n",
    "\n",
    "\n",
    "\n",
    "for d in range(0, n_obs):\n",
    "    pulled = [0,0,0]\n",
    "    #per i primi init_days giorni si pullano in modo causale, successivamente si usa la tabella\n",
    "    if init_days > 0: #or d % random_sampling == 0: #or d % int(len_window/2) == 0:\n",
    "        init_days = init_days - 1\n",
    "        first = d % 3\n",
    "        pulled[first] = sw_learners[first].pull_arm()\n",
    "        pulled[(first + 1 )% 3] = np.random.randint(0,n_arms - pulled[first])\n",
    "        pulled[(first + 2 )% 3] = n_arms - pulled[first] - pulled[(first + 1 )% 3] - 1\n",
    "    else:\n",
    "        #uso l'algoritmo della tabella per selezionare gli arm che mi danno un reward massimo\n",
    "        table_all_Subs = np.ndarray(shape=(0,len(bids)), dtype=float)\n",
    "        for l in sw_learners:\n",
    "            table_all_Subs = np.append(table_all_Subs,np.atleast_2d(l.means.T),0)\n",
    "        pulled = fit_table(table_all_Subs)[0]\n",
    "\n",
    "\n",
    "    clicks = env.round(pulled[0],pulled[1],pulled[2])\n",
    "\n",
    "\n",
    "    for x in range(0,n_subcamp):\n",
    "        sw_learners[x].update(pulled[x], clicks[x])\n",
    "    sw_total_click_each_day = sw_total_click_each_day.append({\n",
    "        'bid_sub1':pulled[0],\n",
    "        'bid_sub2':pulled[1],\n",
    "        'bid_sub3':pulled[2],\n",
    "        \"click1\":clicks[0],\n",
    "        \"click2\":clicks[1],\n",
    "        \"click3\":clicks[2]\n",
    "    }, ignore_index=True)\n",
    "\n",
    "    if (d+1) % print_span == 0:\n",
    "        print(f\"DAY: {d}\\nPULLED:{pulled}\\nCLICKS: {clicks}\\nTOT: {clicks.sum()}\\n\")\n"
   ],
   "metadata": {
    "collapsed": false,
    "pycharm": {
     "name": "#%% DYNAMIC LEARNER\n"
    }
   },
   "execution_count": 3,
   "outputs": [
    {
     "name": "stdout",
     "output_type": "stream",
     "text": [
      "[2.9 5.6 8.4]\n",
      "[1.   0.99 0.56]\n",
      "[12.1  1.7  3.9]\n",
      "[1. 1. 1.]\n",
      "[16.6  6.3 16.4]\n",
      "[1.   0.94 1.  ]\n",
      "PHASES OF 60 DAYS\n",
      "180 TOTAL OBSERVATION\n",
      "DAY: 59\n",
      "PULLED:[6, 2, 2]\n",
      "CLICKS: [83. 92. 97.]\n",
      "TOT: 272.0\n",
      "\n",
      "DAY: 119\n",
      "PULLED:[5, 2, 3]\n",
      "CLICKS: [93. 29. 79.]\n",
      "TOT: 201.0\n",
      "\n",
      "DAY: 179\n",
      "PULLED:[3, 4, 3]\n",
      "CLICKS: [ 48.  79. 100.]\n",
      "TOT: 227.0\n",
      "\n"
     ]
    }
   ]
  },
  {
   "cell_type": "code",
   "execution_count": 4,
   "outputs": [
    {
     "name": "stdout",
     "output_type": "stream",
     "text": [
      "DAY: 59\n",
      "PULLED:[6, 2, 2]\n",
      "CLICKS: [83. 92. 97.]\n",
      "TOT: 272.0\n",
      "\n",
      "DAY: 119\n",
      "PULLED:[4, 2, 4]\n",
      "CLICKS: [89. 29. 86.]\n",
      "TOT: 204.0\n",
      "\n",
      "DAY: 179\n",
      "PULLED:[4, 4, 2]\n",
      "CLICKS: [53. 79. 97.]\n",
      "TOT: 229.0\n",
      "\n"
     ]
    }
   ],
   "source": [
    "total_click_each_day  = pd.DataFrame(columns=['bid_sub1', 'bid_sub2', 'bid_sub3',\"click1\",\"click2\",\"click3\"])\n",
    "#env = AbruptBiddingEnvironment(bids,max_clicks,noise_std,phaselen, n_phases)\n",
    "env.reset()\n",
    "init_days = 20\n",
    "learners = []\n",
    "\n",
    "for i in range(0, n_subcamp):\n",
    "    learners.append(Learner(n_arms,bids))\n",
    "\n",
    "for d in range(0, n_obs):\n",
    "    pulled = [0,0,0]\n",
    "    #per i primi init_days giorni si pullano in modo causale, successivamente si usa la tabella\n",
    "    if init_days > 0 or d % random_sampling == 0:\n",
    "        init_days = init_days - 1\n",
    "        first = d % 3\n",
    "        pulled[first] = learners[first].pull_arm()\n",
    "        pulled[(first + 1 )% 3] = np.random.randint(0,n_arms - pulled[first])\n",
    "        pulled[(first + 2 )% 3] = n_arms - pulled[first] - pulled[(first + 1 )% 3] - 1\n",
    "    else:\n",
    "        #uso l'algoritmo della tabella per selezionare gli arm che mi danno un reward massimo\n",
    "        table_all_Subs = np.ndarray(shape=(0,len(bids)), dtype=float)\n",
    "        for l in learners:\n",
    "            table_all_Subs = np.append(table_all_Subs,np.atleast_2d(l.means.T),0)\n",
    "        pulled = fit_table(table_all_Subs)[0]\n",
    "\n",
    "\n",
    "    clicks = env.round(pulled[0],pulled[1],pulled[2])\n",
    "\n",
    "\n",
    "    for x in range(0,n_subcamp):\n",
    "        learners[x].update(pulled[x], clicks[x])\n",
    "    total_click_each_day = total_click_each_day.append({\n",
    "        'bid_sub1':pulled[0],\n",
    "        'bid_sub2':pulled[1],\n",
    "        'bid_sub3':pulled[2],\n",
    "        \"click1\":clicks[0],\n",
    "        \"click2\":clicks[1],\n",
    "        \"click3\":clicks[2]\n",
    "    }, ignore_index=True)\n",
    "\n",
    "    if (d+1) % print_span == 0:\n",
    "        #TIME TO PRINT THE PLOTS\n",
    "        print(f\"DAY: {d}\\nPULLED:{pulled}\\nCLICKS: {clicks}\\nTOT: {clicks.sum()}\\n\")"
   ],
   "metadata": {
    "collapsed": false,
    "pycharm": {
     "name": "#%% STATIC LEARNER\n"
    }
   }
  },
  {
   "cell_type": "code",
   "source": [
    "basic_total_click_each_day  = pd.DataFrame(columns=['bid_sub1', 'bid_sub2', 'bid_sub3',\"click1\",\"click2\",\"click3\"])\n",
    "#env = AbruptBiddingEnvironment(bids,max_clicks,noise_std,phaselen, n_phases)\n",
    "env.reset()\n",
    "init_days = 20\n",
    "learners = []\n",
    "\n",
    "for i in range(0, n_subcamp):\n",
    "    learners.append(Learner(n_arms,bids))\n",
    "\n",
    "for d in range(0, n_obs):\n",
    "    pulled = [0,0,0]\n",
    "    #per i primi init_days giorni si pullano in modo causale, successivamente si usa la tabella\n",
    "    if init_days > 0: #or d % random_sampling == 0: #or d % int(len_window/2) == 0:\n",
    "        init_days = init_days - 1\n",
    "        first = d % 3\n",
    "        pulled[first] = learners[first].pull_arm()\n",
    "        pulled[(first + 1 )% 3] = np.random.randint(0,n_arms - pulled[first])\n",
    "        pulled[(first + 2 )% 3] = n_arms - pulled[first] - pulled[(first + 1 )% 3] - 1\n",
    "    else:\n",
    "        #uso l'algoritmo della tabella per selezionare gli arm che mi danno un reward massimo\n",
    "        table_all_Subs = np.ndarray(shape=(0,len(bids)), dtype=float)\n",
    "        for l in learners:\n",
    "            table_all_Subs = np.append(table_all_Subs,np.atleast_2d(l.means.T),0)\n",
    "        pulled = fit_table(table_all_Subs)[0]\n",
    "\n",
    "\n",
    "    clicks = env.round(pulled[0],pulled[1],pulled[2])\n",
    "\n",
    "\n",
    "    for x in range(0,n_subcamp):\n",
    "        learners[x].update(pulled[x], clicks[x])\n",
    "    basic_total_click_each_day = basic_total_click_each_day.append({\n",
    "        'bid_sub1':pulled[0],\n",
    "        'bid_sub2':pulled[1],\n",
    "        'bid_sub3':pulled[2],\n",
    "        \"click1\":clicks[0],\n",
    "        \"click2\":clicks[1],\n",
    "        \"click3\":clicks[2]\n",
    "    }, ignore_index=True)\n",
    "\n",
    "    if (d+1) % print_span == 0:\n",
    "        #TIME TO PRINT THE PLOTS\n",
    "        print(f\"DAY: {d}\\nPULLED:{pulled}\\nCLICKS: {clicks}\\nTOT: {clicks.sum()}\\n\")\n",
    "\n",
    "\n",
    "\n"
   ],
   "metadata": {
    "collapsed": false,
    "pycharm": {
     "name": "#%% STATIC LEARNER BASIC\n"
    }
   },
   "execution_count": 5,
   "outputs": [
    {
     "name": "stdout",
     "output_type": "stream",
     "text": [
      "DAY: 59\n",
      "PULLED:[5, 3, 2]\n",
      "CLICKS: [77. 98. 97.]\n",
      "TOT: 272.0\n",
      "\n",
      "DAY: 119\n",
      "PULLED:[5, 3, 2]\n",
      "CLICKS: [93. 40. 66.]\n",
      "TOT: 199.0\n",
      "\n",
      "DAY: 179\n",
      "PULLED:[5, 3, 2]\n",
      "CLICKS: [55. 69. 97.]\n",
      "TOT: 221.0\n",
      "\n"
     ]
    }
   ]
  },
  {
   "cell_type": "code",
   "execution_count": 6,
   "outputs": [
    {
     "data": {
      "text/plain": "<Figure size 720x360 with 1 Axes>",
      "image/png": "[encoded data removed]"
     },
     "metadata": {},
     "output_type": "display_data"
    }
   ],
   "source": [
    "clicks_opt = np.array([])\n",
    "\n",
    "for p in range(0,n_phases):\n",
    "    all_optimal_subs = np.ndarray(shape=(0,len(bids)), dtype=float)\n",
    "    for i in range(0,n_subcamp):\n",
    "        all_optimal_subs = np.append(all_optimal_subs,np.atleast_2d(env.subs[i](bids,p)),0)\n",
    "    opt = fit_table(all_optimal_subs)[1]\n",
    "    for days in range(0,phaselen):\n",
    "        clicks_opt = np.append(clicks_opt, opt)\n",
    "\n",
    "\n",
    "\n",
    "\n",
    "sw_clicks_obtained = sw_total_click_each_day[\"click1\"] + \\\n",
    "                  sw_total_click_each_day[\"click2\"] + \\\n",
    "                  sw_total_click_each_day[\"click3\"]\n",
    "\n",
    "clicks_obtained = total_click_each_day[\"click1\"] + \\\n",
    "                  total_click_each_day[\"click2\"] + \\\n",
    "                  total_click_each_day[\"click3\"]\n",
    "\n",
    "basic_clicks_obtained = basic_total_click_each_day[\"click1\"] + \\\n",
    "                  basic_total_click_each_day[\"click2\"] + \\\n",
    "                  basic_total_click_each_day[\"click3\"]\n",
    "\n",
    "\n",
    "np.cumsum(clicks_opt - sw_clicks_obtained).plot(label=\"Sliding window\")\n",
    "np.cumsum(clicks_opt - clicks_obtained).plot(color=\"red\", label=\"Without sw optimized\")\n",
    "np.cumsum(clicks_opt - basic_clicks_obtained).plot(color=\"green\", label=\"Without sw\")\n",
    "plt.legend(loc='lower right')\n",
    "plt.show()\n",
    "\n",
    "plt.show()\n"
   ],
   "metadata": {
    "collapsed": false,
    "pycharm": {
     "name": "#%% REGRET\n"
    }
   }
  },
  {
   "cell_type": "code",
   "source": [
    "print(\"SLIDING WINDOWS\")\n",
    "print(sum(sw_clicks_obtained))\n",
    "\n",
    "print(\"\\n\\nOPTIMIZED WITHOUT SLIDING WINDOWS\")\n",
    "print(sum(clicks_obtained))\n",
    "\n",
    "print(\"\\n\\nWITHOUT SLIDING WINDOWS\")\n",
    "print(sum(basic_clicks_obtained))"
   ],
   "metadata": {
    "collapsed": false,
    "pycharm": {
     "name": "#%%\n"
    }
   },
   "execution_count": 7,
   "outputs": [
    {
     "name": "stdout",
     "output_type": "stream",
     "text": [
      "SLIDING WINDOWS\n",
      "40247.0\n",
      "\n",
      "\n",
      "OPTIMIZED WITHOUT SLIDING WINDOWS\n",
      "37062.0\n",
      "\n",
      "\n",
      "WITHOUT SLIDING WINDOWS\n",
      "39673.0\n"
     ]
    }
   ]
  }
 ],
 "metadata": {
  "kernelspec": {
   "display_name": "Python 3",
   "language": "python",
   "name": "python3"
  },
  "language_info": {
   "codemirror_mode": {
    "name": "ipython",
    "version": 2
   },
   "file_extension": ".py",
   "mimetype": "text/x-python",
   "name": "python",
   "nbconvert_exporter": "python",
   "pygments_lexer": "ipython2",
   "version": "2.7.6"
  }
 },
 "nbformat": 4,
 "nbformat_minor": 0
}