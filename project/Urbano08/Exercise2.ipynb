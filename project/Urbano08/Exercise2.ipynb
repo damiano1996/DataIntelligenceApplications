{
 "cells": [
  {
   "cell_type": "markdown",
   "source": [
    " 2) Design a combinatorial bandit algorithm to optimize the budget allocation over the three subcampaigns\n",
    "  to maximize the total number of clicks. Plot the cumulative regret.\n",
    "prima si stimano le curve (budget allocato -> numero di click + rumore gaussiano)\\n\",\n",
    "poi crea la tabella e si trova la combinazione migliore di sub per avere il massimo numero di click\\n\",\n",
    "\n",
    "\n",
    "    CURVE\\n\",\n",
    "    MAX_BUDGET * (1.0 - np.exp(-(PARAMETRO_SUB * x))\\n\",\n",
    "\n",
    "    RUMORE: generazione sample con rumore\\n\",\n",
    "    SAMPLE = np.random.normal(CLICK_Y_CURVA, VARIANZA_FISSA)\\n\",\n",
    "    CLICK_Y_CURVA = valore del numero di click preso dalla curva dato un budget x\\n\",\n",
    "\n",
    "   Dai vari SAMPLE si generano le 3 CURVA_GEN con un GP\\n\",\n",
    "\n",
    "    Dalle curve si riempie la prima tabella con i valori di budget prefissati:\n",
    "    0, 10, 20, 30, 40, 50, 60, 70, 80, 90, 100\n",
    "\n",
    "    Si applica l'optimization problem per decidere la combinazione migliore di subcampaign\n",
    "\n",
    "\n",
    "\n",
    "\n",
    "\n",
    "\n",
    "\n",
    "\n",
    "\n",
    "\n",
    "\n",
    "\n",
    "\n",
    "\n",
    "\n",
    "\n",
    "\n",
    "\n",
    "\n",
    "\n",
    "\n",
    "\n",
    "\n",
    "\n",
    "\n",
    "\n",
    "\n",
    "\n",
    "\n",
    "\n",
    "\n",
    "\n",
    "\n",
    "\n",
    "\n",
    "\n"
   ],
   "metadata": {
    "collapsed": false,
    "pycharm": {
     "name": "#%% md\n"
    }
   }
  }
 ],
 "metadata": {
  "kernelspec": {
   "display_name": "Python 3",
   "language": "python",
   "name": "python3"
  },
  "language_info": {
   "codemirror_mode": {
    "name": "ipython",
    "version": 2
   },
   "file_extension": ".py",
   "mimetype": "text/x-python",
   "name": "python",
   "nbconvert_exporter": "python",
   "pygments_lexer": "ipython2",
   "version": "2.7.6"
  }
 },
 "nbformat": 4,
 "nbformat_minor": 0
}