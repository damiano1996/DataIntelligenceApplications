{
 "cells": [
  {
   "cell_type": "markdown",
   "metadata": {
    "pycharm": {
     "name": "#%% md\n"
    }
   },
   "source": [
    " 2) Design a combinatorial bandit algorithm to optimize the budget allocation over the three subcampaigns\n",
    "  to maximize the total number of clicks. Plot the cumulative regret.\n",
    "prima si stimano le curve (budget allocato -> numero di click + rumore gaussiano)\\n\",\n",
    "poi crea la tabella e si trova la combinazione migliore di sub per avere il massimo numero di click\\n\",\n",
    "\n",
    "\n",
    "    CURVE\\n\",\n",
    "    MAX_BUDGET * (1.0 - np.exp(-(PARAMETRO_SUB * x))\\n\",\n",
    "\n",
    "    RUMORE: generazione sample con rumore\\n\",\n",
    "    SAMPLE = np.random.normal(CLICK_Y_CURVA, VARIANZA_FISSA)\\n\",\n",
    "    CLICK_Y_CURVA = valore del numero di click preso dalla curva dato un budget x\\n\",\n",
    "\n",
    "   Dai vari SAMPLE si generano le  3 CURVA_GEN con un GP\\n\",\n",
    "\n",
    "    Dalle curve si riempie la prima tabella con i valori di budget prefissati:\n",
    "    0, 10, 20, 30, 40, 50, 60, 70, 80, 90, 100\n",
    "\n",
    "    Si applica l'optimization problem per decidere la combinazione migliore di subcampaign"
   ]
  },
  {
   "cell_type": "code",
   "execution_count": 2,
   "metadata": {
    "pycharm": {
     "name": "#%%\n"
    }
   },
   "outputs": [
    {
     "ename": "ImportError",
     "evalue": "cannot import name 'Optimizer' from 'project.Urbano08.Optimizer' (C:\\Users\\Antonio_2\\PycharmProjects\\DataIntelligenceApplications\\project\\Urbano08\\Optimizer.py)",
     "output_type": "error",
     "traceback": [
      "\u001B[1;31m---------------------------------------------------------------------------\u001B[0m",
      "\u001B[1;31mImportError\u001B[0m                               Traceback (most recent call last)",
      "\u001B[1;32m<ipython-input-2-de46dda74d78>\u001B[0m in \u001B[0;36m<module>\u001B[1;34m\u001B[0m\n\u001B[0;32m      4\u001B[0m \u001B[1;32mfrom\u001B[0m \u001B[0mproject\u001B[0m\u001B[1;33m.\u001B[0m\u001B[0mUrbano08\u001B[0m\u001B[1;33m.\u001B[0m\u001B[0mLearner\u001B[0m \u001B[1;32mimport\u001B[0m \u001B[0mLearner\u001B[0m\u001B[1;33m\u001B[0m\u001B[1;33m\u001B[0m\u001B[0m\n\u001B[0;32m      5\u001B[0m \u001B[1;32mimport\u001B[0m \u001B[0mpandas\u001B[0m \u001B[1;32mas\u001B[0m \u001B[0mpd\u001B[0m\u001B[1;33m\u001B[0m\u001B[1;33m\u001B[0m\u001B[0m\n\u001B[1;32m----> 6\u001B[1;33m \u001B[1;32mfrom\u001B[0m \u001B[0mproject\u001B[0m\u001B[1;33m.\u001B[0m\u001B[0mUrbano08\u001B[0m\u001B[1;33m.\u001B[0m\u001B[0mOptimizer\u001B[0m \u001B[1;32mimport\u001B[0m \u001B[0mOptimizer\u001B[0m\u001B[1;33m\u001B[0m\u001B[1;33m\u001B[0m\u001B[0m\n\u001B[0m\u001B[0;32m      7\u001B[0m \u001B[1;33m\u001B[0m\u001B[0m\n\u001B[0;32m      8\u001B[0m \u001B[1;33m\u001B[0m\u001B[0m\n",
      "\u001B[1;31mImportError\u001B[0m: cannot import name 'Optimizer' from 'project.Urbano08.Optimizer' (C:\\Users\\Antonio_2\\PycharmProjects\\DataIntelligenceApplications\\project\\Urbano08\\Optimizer.py)"
     ]
    }
   ],
   "source": [
    "import matplotlib.pyplot as plt\n",
    "import numpy as np\n",
    "from project.Urbano08.BiddingEnvironment import BiddingEnvironment\n",
    "from project.Urbano08.Learner import Learner\n",
    "import pandas as pd\n",
    "from project.Urbano08.Optimizer import Optimizer\n"
   ]
  },
  {
   "cell_type": "code",
   "execution_count": null,
   "metadata": {
    "pycharm": {
     "name": "#%%\n"
    }
   },
   "outputs": [],
   "source": [
    "n_obs = 30\n",
    "x_obs = np.ndarray(shape=(0,3), dtype=float)\n",
    "y_obs = np.ndarray(shape=(0,3), dtype=float)\n",
    "n_subcamp = 3\n",
    "max_bid = 1\n",
    "max_clicks = 100\n",
    "n_arms = 11\n",
    "\n",
    "bids = np.linspace(0, max_bid, n_arms)\n",
    "print(bids)\n",
    "\n",
    "total_click_each_day = pd.DataFrame(columns=['bid_sub1', 'bid_sub2', 'bid_sub3',\"click1\",\"click2\",\"click3\"])\n",
    "\n",
    "noise_std = 6.0\n",
    "env = BiddingEnvironment(bids,max_clicks,noise_std)\n",
    "\n",
    "learners = []\n",
    "for i in range(0, n_subcamp):\n",
    "    learners.append(Learner(n_arms,bids))"
   ]
  },
  {
   "cell_type": "code",
   "execution_count": null,
   "outputs": [],
   "source": [
    "# BISOGNA USARE IL DATAFRAME DI PANDA AL POSTO DEGLI X_OBS E Y_OBS  (PER ORA SONO DATI RIPETUTI)\n",
    "for i in range(0, n_obs):\n",
    "    clicks = []\n",
    "\n",
    "    #Pull an arm for each sub-campaign:\n",
    "    #It is pulled the arm belonging to the sub-campaign (i%3) which has the maximum variance\n",
    "    #For the other 2 sub-campaigns the arm is pulled randomly (s.t. the sum = maximum)\n",
    "    ### N.B. This behaviour works only for arms linearly distributed  over the array_bids\n",
    "    first = i % 3\n",
    "    pulled = [0,0,0]\n",
    "    pulled[first] = learners[first].pull_arm()\n",
    "    pulled[(first + 1 )% 3] = np.random.randint(0,n_arms - pulled[first])\n",
    "    pulled[(first + 2 )% 3] = n_arms - pulled[first] - pulled[(first + 1 )% 3] - 1\n",
    "\n",
    "    clicks = env.round(pulled[0],pulled[1],pulled[2])\n",
    "\n",
    "\n",
    "    for x in range(0,n_subcamp):\n",
    "        learners[x].update(pulled[x], clicks[x])\n",
    "    total_click_each_day = total_click_each_day.append({\n",
    "        'bid_sub1':pulled[0],\n",
    "        'bid_sub2':pulled[1],\n",
    "        'bid_sub3':pulled[2],\n",
    "        \"click1\":clicks[0],\n",
    "        \"click2\":clicks[1],\n",
    "        \"click3\":clicks[2]\n",
    "    }, ignore_index=True)\n",
    "\n",
    "#TODO: tabelle di click e arm pullati, da sostituire con il dataframe\n",
    "    y_obs = np.append(y_obs,np.atleast_2d(clicks),0)\n",
    "    x_obs = np.append(x_obs,np.atleast_2d(bids[pulled]),0)\n",
    "\n",
    "print(y_obs.shape)\n",
    "print(x_obs.shape)"
   ],
   "metadata": {
    "collapsed": false,
    "pycharm": {
     "name": "#%%\n"
    }
   }
  },
  {
   "cell_type": "code",
   "execution_count": null,
   "metadata": {
    "pycharm": {
     "name": "#%%\n"
    }
   },
   "outputs": [],
   "source": [
    "x_pred = np.atleast_2d(bids).T\n",
    "\n",
    "for i in range(0,len(learners)):\n",
    "\n",
    "    X = np.atleast_2d(x_obs[:,i]).T\n",
    "    Y = y_obs[:,i].ravel()\n",
    "\n",
    "    plt.figure()\n",
    "\n",
    "    plt.plot(x_pred, env.subs[i](x_pred), 'r:', label=r'$n(x)$')\n",
    "    plt.plot(X.ravel(), Y, 'ro', label=r'Observed Clicks')\n",
    "    plt.plot(x_pred, learners[i].means, 'b-', label=r'Predicted Clicks')\n",
    "    plt.fill(np.concatenate([x_pred, x_pred[::-1]]),\n",
    "         np.concatenate([learners[i].means - 1.96 * learners[i].sigmas, (learners[i].means + 1.96 * learners[i].sigmas)[::-1]]),\n",
    "         alpha=.5, fc='b', ec='None', label='95% conf interval')\n",
    "    plt.xlabel('$x$')\n",
    "    plt.ylabel('$n(x)$')\n",
    "    plt.legend(loc='lower right')\n",
    "    plt.show()"
   ]
  },
  {
   "cell_type": "markdown",
   "metadata": {
    "pycharm": {
     "name": "#%% md\n"
    }
   },
   "source": [
    "## Optimization algorithm\n",
    "Now we solve the optimization problem as a special case of Multiple-Choice Knapsack problem (Sinha and Zoltners 1979),\n",
    "Here we use the samples returned by the bandit algorithms."
   ]
  },
  {
   "cell_type": "code",
   "execution_count": null,
   "metadata": {
    "pycharm": {
     "name": "#%%\n"
    }
   },
   "outputs": [],
   "source": [
    "table_all_Subs = np.ndarray(shape=(0,len(bids)), dtype=float)\n",
    "for l in learners:\n",
    "    table_all_Subs = np.append(table_all_Subs,np.atleast_2d(l.means.T),0)\n",
    "\n",
    "print(table_all_Subs)\n"
   ]
  },
  {
   "cell_type": "code",
   "execution_count": null,
   "metadata": {
    "pycharm": {
     "name": "#%%\n"
    }
   },
   "outputs": [],
   "source": [
    "algorithm_table = np.ndarray(shape=(0,len(bids)), dtype=float)\n",
    "\n",
    "for l in learners:\n",
    "   algorithm_table = np.append(algorithm_table,np.atleast_2d(np.zeros(len(bids))),0)\n",
    "\n",
    "algorithm_table[0,:] = table_all_Subs[0,:]\n",
    "\n",
    "allocations_table = [[[0],[1],[2],[3],[4],[5],[6],[7],[8],[9],[10]]]\n",
    "\n",
    "\n",
    "for i in range(1, n_subcamp):\n",
    "    allocations_table.append([[],[],[],[],[],[],[],[],[],[],[]])\n",
    "\n",
    "    for j in range(0, len(bids)):\n",
    "        possibilities = np.array([])\n",
    "        poss_allocation = []\n",
    "        for p in range(0,j+1):\n",
    "            #if bids[p] + bids[j-p] <= bids[j] :\n",
    "            possibilities = np.append(possibilities, table_all_Subs[i,p]+algorithm_table[i-1,j-p])\n",
    "            poss_allocation.append(allocations_table[i-1][j-p] + [p])\n",
    "            #print(str(i)+\" \"+ str(p) + \" \"+ str(j-p))\n",
    "\n",
    "        max_index = np.argmax(possibilities)\n",
    "        #print(poss_allocation)\n",
    "        #print(possibilities)\n",
    "\n",
    "        #print(max_index)\n",
    "        algorithm_table[i,j] = possibilities[max_index]\n",
    "        allocations_table[i][j] = poss_allocation[max_index]\n"
   ]
  },
  {
   "cell_type": "markdown",
   "source": [
    "Applicare l'algoritmo della tabella alla curva ideale per trovare l'optimal\n",
    "sottrarre i reward (somma dei click) di ogni turno dall'optimal trovato \n",
    "Plottare il regret sommando le differenze"
   ],
   "metadata": {
    "collapsed": false,
    "pycharm": {
     "name": "#%% md\n"
    }
   }
  },
  {
   "cell_type": "code",
   "execution_count": null,
   "metadata": {},
   "outputs": [],
   "source": [
    "print(allocations_table[n_subcamp-1])\n",
    "print(max(algorithm_table[n_subcamp-1]))\n",
    "#print(total_click_each_day)\n"
   ]
  },
  {
   "cell_type": "code",
   "execution_count": null,
   "outputs": [],
   "source": [
    "print(Optimizer.fit_table(table_all_Subs))"
   ],
   "metadata": {
    "collapsed": false,
    "pycharm": {
     "name": "#%%\n"
    }
   }
  },
  {
   "cell_type": "markdown",
   "source": [
    "## Regret Computation"
   ],
   "metadata": {
    "collapsed": false
   }
  },
  {
   "cell_type": "code",
   "execution_count": null,
   "outputs": [],
   "source": [
    "all_optimal_subs = np.ndarray(shape=(0,len(bids)), dtype=float)\n",
    "for i in range(0,n_subcamp):\n",
    "    all_optimal_subs = np.append(all_optimal_subs,np.atleast_2d(env.subs[i](bids)),0)\n",
    "\n",
    "print(all_optimal_subs)\n"
   ],
   "metadata": {
    "collapsed": false,
    "pycharm": {
     "name": "#%%\n"
    }
   }
  },
  {
   "cell_type": "code",
   "execution_count": null,
   "outputs": [],
   "source": [
    "print(Optimizer.fit_table(all_optimal_subs))"
   ],
   "metadata": {
    "collapsed": false,
    "pycharm": {
     "name": "#%%\n"
    }
   }
  }
 ],
 "metadata": {
  "kernelspec": {
   "display_name": "Python 3",
   "language": "python",
   "name": "python3"
  },
  "language_info": {
   "codemirror_mode": {
    "name": "ipython",
    "version": 3
   },
   "file_extension": ".py",
   "mimetype": "text/x-python",
   "name": "python",
   "nbconvert_exporter": "python",
   "pygments_lexer": "ipython3",
   "version": "3.7.3"
  }
 },
 "nbformat": 4,
 "nbformat_minor": 1
}