{
 "cells": [
  {
   "cell_type": "markdown",
   "metadata": {
    "pycharm": {
     "name": "#%% md\n"
    }
   },
   "source": [
    " 2) Design a combinatorial bandit algorithm to optimize the budget allocation over the three subcampaigns\n",
    "  to maximize the total number of clicks. Plot the cumulative regret.\n",
    "prima si stimano le curve (budget allocato -> numero di click + rumore gaussiano)\\n\",\n",
    "poi crea la tabella e si trova la combinazione migliore di sub per avere il massimo numero di click\\n\",\n",
    "\n",
    "\n",
    "    CURVE\\n\",\n",
    "    MAX_BUDGET * (1.0 - np.exp(-(PARAMETRO_SUB * x))\\n\",\n",
    "\n",
    "    RUMORE: generazione sample con rumore\\n\",\n",
    "    SAMPLE = np.random.normal(CLICK_Y_CURVA, VARIANZA_FISSA)\\n\",\n",
    "    CLICK_Y_CURVA = valore del numero di click preso dalla curva dato un budget x\\n\",\n",
    "\n",
    "   Dai vari SAMPLE si generano le  3 CURVA_GEN con un GP\\n\",\n",
    "\n",
    "    Dalle curve si riempie la prima tabella con i valori di budget prefissati:\n",
    "    0, 10, 20, 30, 40, 50, 60, 70, 80, 90, 100\n",
    "\n",
    "    Si applica l'optimization problem per decidere la combinazione migliore di subcampaign"
   ]
  },
  {
   "cell_type": "code",
   "execution_count": 1,
   "metadata": {
    "pycharm": {
     "name": "#%%\n"
    }
   },
   "outputs": [],
   "source": [
    "import matplotlib.pyplot as plt\n",
    "import numpy as np\n",
    "from project.Urbano08.BiddingEnvironment import BiddingEnvironment\n",
    "from project.Urbano08.Learner import Learner\n",
    "import pandas as pd"
   ]
  },
  {
   "cell_type": "code",
   "execution_count": 2,
   "metadata": {
    "pycharm": {
     "name": "#%%\n"
    }
   },
   "outputs": [
    {
     "name": "stdout",
     "output_type": "stream",
     "text": [
      "(0, 3)\n",
      "(0, 3)\n",
      "[0.  0.1 0.2 0.3 0.4 0.5 0.6 0.7 0.8 0.9 1. ]\n"
     ]
    }
   ],
   "source": [
    "n_obs = 50\n",
    "x_obs = np.ndarray(shape=(0,3), dtype=float)\n",
    "print(x_obs.shape)\n",
    "y_obs = np.ndarray(shape=(0,3), dtype=float)\n",
    "print(y_obs.shape)\n",
    "\n",
    "n_subcamp = 3\n",
    "\n",
    "max_bid = 1\n",
    "max_clicks = 100\n",
    "n_arms = 11\n",
    "\n",
    "noise_std = 6.0\n",
    "\n",
    "bids = np.linspace(0, max_bid, n_arms)\n",
    "print(bids)\n",
    "\n",
    "total_click_each_day = pd.DataFrame(columns=['bid_sub1', 'bid_sub2', 'bid_sub3',\"click1\",\"click2\",\"click3\"])\n",
    "\n",
    "\n",
    "env = BiddingEnvironment(bids,max_clicks,noise_std)\n",
    "learners = []\n",
    "\n",
    "for i in range(0, n_subcamp):\n",
    "    learners.append(Learner(n_arms,bids))"
   ]
  },
  {
   "cell_type": "code",
   "execution_count": 3,
   "metadata": {
    "pycharm": {
     "name": "#%%\n"
    }
   },
   "outputs": [
    {
     "name": "stderr",
     "output_type": "stream",
     "text": [
      "/Users/08volt/PycharmProjects/DataIntelligenceApplications/venv/lib/python3.7/site-packages/sklearn/gaussian_process/_gpr.py:201: RuntimeWarning: invalid value encountered in true_divide\n",
      "  y = (y - self._y_train_mean) / self._y_train_std\n",
      "/Users/08volt/PycharmProjects/DataIntelligenceApplications/venv/lib/python3.7/site-packages/sklearn/gaussian_process/_gpr.py:201: RuntimeWarning: invalid value encountered in true_divide\n",
      "  y = (y - self._y_train_mean) / self._y_train_std\n",
      "/Users/08volt/PycharmProjects/DataIntelligenceApplications/venv/lib/python3.7/site-packages/sklearn/gaussian_process/_gpr.py:201: RuntimeWarning: invalid value encountered in true_divide\n",
      "  y = (y - self._y_train_mean) / self._y_train_std\n",
      "/Users/08volt/PycharmProjects/DataIntelligenceApplications/venv/lib/python3.7/site-packages/sklearn/gaussian_process/_gpr.py:370: UserWarning: Predicted variances smaller than 0. Setting those variances to 0.\n",
      "  warnings.warn(\"Predicted variances smaller than 0. \"\n",
      "/Users/08volt/PycharmProjects/DataIntelligenceApplications/venv/lib/python3.7/site-packages/sklearn/gaussian_process/_gpr.py:370: UserWarning: Predicted variances smaller than 0. Setting those variances to 0.\n",
      "  warnings.warn(\"Predicted variances smaller than 0. \"\n",
      "/Users/08volt/PycharmProjects/DataIntelligenceApplications/venv/lib/python3.7/site-packages/sklearn/gaussian_process/_gpr.py:370: UserWarning: Predicted variances smaller than 0. Setting those variances to 0.\n",
      "  warnings.warn(\"Predicted variances smaller than 0. \"\n",
      "/Users/08volt/PycharmProjects/DataIntelligenceApplications/venv/lib/python3.7/site-packages/sklearn/gaussian_process/_gpr.py:370: UserWarning: Predicted variances smaller than 0. Setting those variances to 0.\n",
      "  warnings.warn(\"Predicted variances smaller than 0. \"\n",
      "/Users/08volt/PycharmProjects/DataIntelligenceApplications/venv/lib/python3.7/site-packages/sklearn/gaussian_process/_gpr.py:370: UserWarning: Predicted variances smaller than 0. Setting those variances to 0.\n",
      "  warnings.warn(\"Predicted variances smaller than 0. \"\n",
      "/Users/08volt/PycharmProjects/DataIntelligenceApplications/venv/lib/python3.7/site-packages/sklearn/gaussian_process/_gpr.py:370: UserWarning: Predicted variances smaller than 0. Setting those variances to 0.\n",
      "  warnings.warn(\"Predicted variances smaller than 0. \"\n",
      "/Users/08volt/PycharmProjects/DataIntelligenceApplications/venv/lib/python3.7/site-packages/sklearn/gaussian_process/_gpr.py:370: UserWarning: Predicted variances smaller than 0. Setting those variances to 0.\n",
      "  warnings.warn(\"Predicted variances smaller than 0. \"\n",
      "/Users/08volt/PycharmProjects/DataIntelligenceApplications/venv/lib/python3.7/site-packages/sklearn/gaussian_process/_gpr.py:370: UserWarning: Predicted variances smaller than 0. Setting those variances to 0.\n",
      "  warnings.warn(\"Predicted variances smaller than 0. \"\n",
      "/Users/08volt/PycharmProjects/DataIntelligenceApplications/venv/lib/python3.7/site-packages/sklearn/gaussian_process/_gpr.py:370: UserWarning: Predicted variances smaller than 0. Setting those variances to 0.\n",
      "  warnings.warn(\"Predicted variances smaller than 0. \"\n",
      "/Users/08volt/PycharmProjects/DataIntelligenceApplications/venv/lib/python3.7/site-packages/sklearn/gaussian_process/_gpr.py:370: UserWarning: Predicted variances smaller than 0. Setting those variances to 0.\n",
      "  warnings.warn(\"Predicted variances smaller than 0. \"\n",
      "/Users/08volt/PycharmProjects/DataIntelligenceApplications/venv/lib/python3.7/site-packages/sklearn/gaussian_process/_gpr.py:370: UserWarning: Predicted variances smaller than 0. Setting those variances to 0.\n",
      "  warnings.warn(\"Predicted variances smaller than 0. \"\n",
      "/Users/08volt/PycharmProjects/DataIntelligenceApplications/venv/lib/python3.7/site-packages/sklearn/gaussian_process/_gpr.py:370: UserWarning: Predicted variances smaller than 0. Setting those variances to 0.\n",
      "  warnings.warn(\"Predicted variances smaller than 0. \"\n",
      "/Users/08volt/PycharmProjects/DataIntelligenceApplications/venv/lib/python3.7/site-packages/sklearn/gaussian_process/_gpr.py:370: UserWarning: Predicted variances smaller than 0. Setting those variances to 0.\n",
      "  warnings.warn(\"Predicted variances smaller than 0. \"\n",
      "/Users/08volt/PycharmProjects/DataIntelligenceApplications/venv/lib/python3.7/site-packages/sklearn/gaussian_process/_gpr.py:370: UserWarning: Predicted variances smaller than 0. Setting those variances to 0.\n",
      "  warnings.warn(\"Predicted variances smaller than 0. \"\n",
      "/Users/08volt/PycharmProjects/DataIntelligenceApplications/venv/lib/python3.7/site-packages/sklearn/gaussian_process/_gpr.py:370: UserWarning: Predicted variances smaller than 0. Setting those variances to 0.\n",
      "  warnings.warn(\"Predicted variances smaller than 0. \"\n",
      "/Users/08volt/PycharmProjects/DataIntelligenceApplications/venv/lib/python3.7/site-packages/sklearn/gaussian_process/_gpr.py:370: UserWarning: Predicted variances smaller than 0. Setting those variances to 0.\n",
      "  warnings.warn(\"Predicted variances smaller than 0. \"\n",
      "/Users/08volt/PycharmProjects/DataIntelligenceApplications/venv/lib/python3.7/site-packages/sklearn/gaussian_process/_gpr.py:370: UserWarning: Predicted variances smaller than 0. Setting those variances to 0.\n",
      "  warnings.warn(\"Predicted variances smaller than 0. \"\n",
      "/Users/08volt/PycharmProjects/DataIntelligenceApplications/venv/lib/python3.7/site-packages/sklearn/gaussian_process/_gpr.py:370: UserWarning: Predicted variances smaller than 0. Setting those variances to 0.\n",
      "  warnings.warn(\"Predicted variances smaller than 0. \"\n",
      "/Users/08volt/PycharmProjects/DataIntelligenceApplications/venv/lib/python3.7/site-packages/sklearn/gaussian_process/_gpr.py:370: UserWarning: Predicted variances smaller than 0. Setting those variances to 0.\n",
      "  warnings.warn(\"Predicted variances smaller than 0. \"\n",
      "/Users/08volt/PycharmProjects/DataIntelligenceApplications/venv/lib/python3.7/site-packages/sklearn/gaussian_process/_gpr.py:370: UserWarning: Predicted variances smaller than 0. Setting those variances to 0.\n",
      "  warnings.warn(\"Predicted variances smaller than 0. \"\n",
      "/Users/08volt/PycharmProjects/DataIntelligenceApplications/venv/lib/python3.7/site-packages/sklearn/gaussian_process/_gpr.py:370: UserWarning: Predicted variances smaller than 0. Setting those variances to 0.\n",
      "  warnings.warn(\"Predicted variances smaller than 0. \"\n",
      "/Users/08volt/PycharmProjects/DataIntelligenceApplications/venv/lib/python3.7/site-packages/sklearn/gaussian_process/_gpr.py:370: UserWarning: Predicted variances smaller than 0. Setting those variances to 0.\n",
      "  warnings.warn(\"Predicted variances smaller than 0. \"\n",
      "/Users/08volt/PycharmProjects/DataIntelligenceApplications/venv/lib/python3.7/site-packages/sklearn/gaussian_process/_gpr.py:370: UserWarning: Predicted variances smaller than 0. Setting those variances to 0.\n",
      "  warnings.warn(\"Predicted variances smaller than 0. \"\n",
      "/Users/08volt/PycharmProjects/DataIntelligenceApplications/venv/lib/python3.7/site-packages/sklearn/gaussian_process/_gpr.py:370: UserWarning: Predicted variances smaller than 0. Setting those variances to 0.\n",
      "  warnings.warn(\"Predicted variances smaller than 0. \"\n",
      "/Users/08volt/PycharmProjects/DataIntelligenceApplications/venv/lib/python3.7/site-packages/sklearn/gaussian_process/_gpr.py:370: UserWarning: Predicted variances smaller than 0. Setting those variances to 0.\n",
      "  warnings.warn(\"Predicted variances smaller than 0. \"\n",
      "/Users/08volt/PycharmProjects/DataIntelligenceApplications/venv/lib/python3.7/site-packages/sklearn/gaussian_process/_gpr.py:370: UserWarning: Predicted variances smaller than 0. Setting those variances to 0.\n",
      "  warnings.warn(\"Predicted variances smaller than 0. \"\n",
      "/Users/08volt/PycharmProjects/DataIntelligenceApplications/venv/lib/python3.7/site-packages/sklearn/gaussian_process/_gpr.py:370: UserWarning: Predicted variances smaller than 0. Setting those variances to 0.\n",
      "  warnings.warn(\"Predicted variances smaller than 0. \"\n",
      "/Users/08volt/PycharmProjects/DataIntelligenceApplications/venv/lib/python3.7/site-packages/sklearn/gaussian_process/_gpr.py:370: UserWarning: Predicted variances smaller than 0. Setting those variances to 0.\n",
      "  warnings.warn(\"Predicted variances smaller than 0. \"\n",
      "/Users/08volt/PycharmProjects/DataIntelligenceApplications/venv/lib/python3.7/site-packages/sklearn/gaussian_process/_gpr.py:370: UserWarning: Predicted variances smaller than 0. Setting those variances to 0.\n",
      "  warnings.warn(\"Predicted variances smaller than 0. \"\n",
      "/Users/08volt/PycharmProjects/DataIntelligenceApplications/venv/lib/python3.7/site-packages/sklearn/gaussian_process/_gpr.py:370: UserWarning: Predicted variances smaller than 0. Setting those variances to 0.\n",
      "  warnings.warn(\"Predicted variances smaller than 0. \"\n",
      "/Users/08volt/PycharmProjects/DataIntelligenceApplications/venv/lib/python3.7/site-packages/sklearn/gaussian_process/_gpr.py:370: UserWarning: Predicted variances smaller than 0. Setting those variances to 0.\n",
      "  warnings.warn(\"Predicted variances smaller than 0. \"\n",
      "/Users/08volt/PycharmProjects/DataIntelligenceApplications/venv/lib/python3.7/site-packages/sklearn/gaussian_process/_gpr.py:370: UserWarning: Predicted variances smaller than 0. Setting those variances to 0.\n",
      "  warnings.warn(\"Predicted variances smaller than 0. \"\n",
      "/Users/08volt/PycharmProjects/DataIntelligenceApplications/venv/lib/python3.7/site-packages/sklearn/gaussian_process/_gpr.py:370: UserWarning: Predicted variances smaller than 0. Setting those variances to 0.\n",
      "  warnings.warn(\"Predicted variances smaller than 0. \"\n",
      "/Users/08volt/PycharmProjects/DataIntelligenceApplications/venv/lib/python3.7/site-packages/sklearn/gaussian_process/_gpr.py:370: UserWarning: Predicted variances smaller than 0. Setting those variances to 0.\n",
      "  warnings.warn(\"Predicted variances smaller than 0. \"\n",
      "/Users/08volt/PycharmProjects/DataIntelligenceApplications/venv/lib/python3.7/site-packages/sklearn/gaussian_process/_gpr.py:370: UserWarning: Predicted variances smaller than 0. Setting those variances to 0.\n",
      "  warnings.warn(\"Predicted variances smaller than 0. \"\n",
      "/Users/08volt/PycharmProjects/DataIntelligenceApplications/venv/lib/python3.7/site-packages/sklearn/gaussian_process/_gpr.py:370: UserWarning: Predicted variances smaller than 0. Setting those variances to 0.\n",
      "  warnings.warn(\"Predicted variances smaller than 0. \"\n",
      "/Users/08volt/PycharmProjects/DataIntelligenceApplications/venv/lib/python3.7/site-packages/sklearn/gaussian_process/_gpr.py:370: UserWarning: Predicted variances smaller than 0. Setting those variances to 0.\n",
      "  warnings.warn(\"Predicted variances smaller than 0. \"\n",
      "/Users/08volt/PycharmProjects/DataIntelligenceApplications/venv/lib/python3.7/site-packages/sklearn/gaussian_process/_gpr.py:370: UserWarning: Predicted variances smaller than 0. Setting those variances to 0.\n",
      "  warnings.warn(\"Predicted variances smaller than 0. \"\n",
      "/Users/08volt/PycharmProjects/DataIntelligenceApplications/venv/lib/python3.7/site-packages/sklearn/gaussian_process/_gpr.py:370: UserWarning: Predicted variances smaller than 0. Setting those variances to 0.\n",
      "  warnings.warn(\"Predicted variances smaller than 0. \"\n",
      "/Users/08volt/PycharmProjects/DataIntelligenceApplications/venv/lib/python3.7/site-packages/sklearn/gaussian_process/_gpr.py:370: UserWarning: Predicted variances smaller than 0. Setting those variances to 0.\n",
      "  warnings.warn(\"Predicted variances smaller than 0. \"\n",
      "/Users/08volt/PycharmProjects/DataIntelligenceApplications/venv/lib/python3.7/site-packages/sklearn/gaussian_process/_gpr.py:370: UserWarning: Predicted variances smaller than 0. Setting those variances to 0.\n",
      "  warnings.warn(\"Predicted variances smaller than 0. \"\n",
      "/Users/08volt/PycharmProjects/DataIntelligenceApplications/venv/lib/python3.7/site-packages/sklearn/gaussian_process/_gpr.py:370: UserWarning: Predicted variances smaller than 0. Setting those variances to 0.\n",
      "  warnings.warn(\"Predicted variances smaller than 0. \"\n",
      "/Users/08volt/PycharmProjects/DataIntelligenceApplications/venv/lib/python3.7/site-packages/sklearn/gaussian_process/_gpr.py:370: UserWarning: Predicted variances smaller than 0. Setting those variances to 0.\n",
      "  warnings.warn(\"Predicted variances smaller than 0. \"\n",
      "/Users/08volt/PycharmProjects/DataIntelligenceApplications/venv/lib/python3.7/site-packages/sklearn/gaussian_process/_gpr.py:370: UserWarning: Predicted variances smaller than 0. Setting those variances to 0.\n",
      "  warnings.warn(\"Predicted variances smaller than 0. \"\n",
      "/Users/08volt/PycharmProjects/DataIntelligenceApplications/venv/lib/python3.7/site-packages/sklearn/gaussian_process/_gpr.py:370: UserWarning: Predicted variances smaller than 0. Setting those variances to 0.\n",
      "  warnings.warn(\"Predicted variances smaller than 0. \"\n",
      "/Users/08volt/PycharmProjects/DataIntelligenceApplications/venv/lib/python3.7/site-packages/sklearn/gaussian_process/_gpr.py:370: UserWarning: Predicted variances smaller than 0. Setting those variances to 0.\n",
      "  warnings.warn(\"Predicted variances smaller than 0. \"\n",
      "/Users/08volt/PycharmProjects/DataIntelligenceApplications/venv/lib/python3.7/site-packages/sklearn/gaussian_process/_gpr.py:370: UserWarning: Predicted variances smaller than 0. Setting those variances to 0.\n",
      "  warnings.warn(\"Predicted variances smaller than 0. \"\n",
      "/Users/08volt/PycharmProjects/DataIntelligenceApplications/venv/lib/python3.7/site-packages/sklearn/gaussian_process/_gpr.py:370: UserWarning: Predicted variances smaller than 0. Setting those variances to 0.\n",
      "  warnings.warn(\"Predicted variances smaller than 0. \"\n",
      "/Users/08volt/PycharmProjects/DataIntelligenceApplications/venv/lib/python3.7/site-packages/sklearn/gaussian_process/_gpr.py:370: UserWarning: Predicted variances smaller than 0. Setting those variances to 0.\n",
      "  warnings.warn(\"Predicted variances smaller than 0. \"\n",
      "/Users/08volt/PycharmProjects/DataIntelligenceApplications/venv/lib/python3.7/site-packages/sklearn/gaussian_process/_gpr.py:370: UserWarning: Predicted variances smaller than 0. Setting those variances to 0.\n",
      "  warnings.warn(\"Predicted variances smaller than 0. \"\n",
      "/Users/08volt/PycharmProjects/DataIntelligenceApplications/venv/lib/python3.7/site-packages/sklearn/gaussian_process/_gpr.py:370: UserWarning: Predicted variances smaller than 0. Setting those variances to 0.\n",
      "  warnings.warn(\"Predicted variances smaller than 0. \"\n",
      "/Users/08volt/PycharmProjects/DataIntelligenceApplications/venv/lib/python3.7/site-packages/sklearn/gaussian_process/_gpr.py:370: UserWarning: Predicted variances smaller than 0. Setting those variances to 0.\n",
      "  warnings.warn(\"Predicted variances smaller than 0. \"\n",
      "/Users/08volt/PycharmProjects/DataIntelligenceApplications/venv/lib/python3.7/site-packages/sklearn/gaussian_process/_gpr.py:370: UserWarning: Predicted variances smaller than 0. Setting those variances to 0.\n",
      "  warnings.warn(\"Predicted variances smaller than 0. \"\n",
      "/Users/08volt/PycharmProjects/DataIntelligenceApplications/venv/lib/python3.7/site-packages/sklearn/gaussian_process/_gpr.py:370: UserWarning: Predicted variances smaller than 0. Setting those variances to 0.\n",
      "  warnings.warn(\"Predicted variances smaller than 0. \"\n",
      "/Users/08volt/PycharmProjects/DataIntelligenceApplications/venv/lib/python3.7/site-packages/sklearn/gaussian_process/_gpr.py:370: UserWarning: Predicted variances smaller than 0. Setting those variances to 0.\n",
      "  warnings.warn(\"Predicted variances smaller than 0. \"\n",
      "/Users/08volt/PycharmProjects/DataIntelligenceApplications/venv/lib/python3.7/site-packages/sklearn/gaussian_process/_gpr.py:370: UserWarning: Predicted variances smaller than 0. Setting those variances to 0.\n",
      "  warnings.warn(\"Predicted variances smaller than 0. \"\n",
      "/Users/08volt/PycharmProjects/DataIntelligenceApplications/venv/lib/python3.7/site-packages/sklearn/gaussian_process/_gpr.py:370: UserWarning: Predicted variances smaller than 0. Setting those variances to 0.\n",
      "  warnings.warn(\"Predicted variances smaller than 0. \"\n",
      "/Users/08volt/PycharmProjects/DataIntelligenceApplications/venv/lib/python3.7/site-packages/sklearn/gaussian_process/_gpr.py:370: UserWarning: Predicted variances smaller than 0. Setting those variances to 0.\n",
      "  warnings.warn(\"Predicted variances smaller than 0. \"\n",
      "/Users/08volt/PycharmProjects/DataIntelligenceApplications/venv/lib/python3.7/site-packages/sklearn/gaussian_process/_gpr.py:370: UserWarning: Predicted variances smaller than 0. Setting those variances to 0.\n",
      "  warnings.warn(\"Predicted variances smaller than 0. \"\n",
      "/Users/08volt/PycharmProjects/DataIntelligenceApplications/venv/lib/python3.7/site-packages/sklearn/gaussian_process/_gpr.py:370: UserWarning: Predicted variances smaller than 0. Setting those variances to 0.\n",
      "  warnings.warn(\"Predicted variances smaller than 0. \"\n",
      "/Users/08volt/PycharmProjects/DataIntelligenceApplications/venv/lib/python3.7/site-packages/sklearn/gaussian_process/_gpr.py:370: UserWarning: Predicted variances smaller than 0. Setting those variances to 0.\n",
      "  warnings.warn(\"Predicted variances smaller than 0. \"\n",
      "/Users/08volt/PycharmProjects/DataIntelligenceApplications/venv/lib/python3.7/site-packages/sklearn/gaussian_process/_gpr.py:370: UserWarning: Predicted variances smaller than 0. Setting those variances to 0.\n",
      "  warnings.warn(\"Predicted variances smaller than 0. \"\n",
      "/Users/08volt/PycharmProjects/DataIntelligenceApplications/venv/lib/python3.7/site-packages/sklearn/gaussian_process/_gpr.py:370: UserWarning: Predicted variances smaller than 0. Setting those variances to 0.\n",
      "  warnings.warn(\"Predicted variances smaller than 0. \"\n",
      "/Users/08volt/PycharmProjects/DataIntelligenceApplications/venv/lib/python3.7/site-packages/sklearn/gaussian_process/_gpr.py:370: UserWarning: Predicted variances smaller than 0. Setting those variances to 0.\n",
      "  warnings.warn(\"Predicted variances smaller than 0. \"\n",
      "/Users/08volt/PycharmProjects/DataIntelligenceApplications/venv/lib/python3.7/site-packages/sklearn/gaussian_process/_gpr.py:370: UserWarning: Predicted variances smaller than 0. Setting those variances to 0.\n",
      "  warnings.warn(\"Predicted variances smaller than 0. \"\n",
      "/Users/08volt/PycharmProjects/DataIntelligenceApplications/venv/lib/python3.7/site-packages/sklearn/gaussian_process/_gpr.py:370: UserWarning: Predicted variances smaller than 0. Setting those variances to 0.\n",
      "  warnings.warn(\"Predicted variances smaller than 0. \"\n",
      "/Users/08volt/PycharmProjects/DataIntelligenceApplications/venv/lib/python3.7/site-packages/sklearn/gaussian_process/_gpr.py:370: UserWarning: Predicted variances smaller than 0. Setting those variances to 0.\n",
      "  warnings.warn(\"Predicted variances smaller than 0. \"\n",
      "/Users/08volt/PycharmProjects/DataIntelligenceApplications/venv/lib/python3.7/site-packages/sklearn/gaussian_process/_gpr.py:370: UserWarning: Predicted variances smaller than 0. Setting those variances to 0.\n",
      "  warnings.warn(\"Predicted variances smaller than 0. \"\n",
      "/Users/08volt/PycharmProjects/DataIntelligenceApplications/venv/lib/python3.7/site-packages/sklearn/gaussian_process/_gpr.py:370: UserWarning: Predicted variances smaller than 0. Setting those variances to 0.\n",
      "  warnings.warn(\"Predicted variances smaller than 0. \"\n",
      "/Users/08volt/PycharmProjects/DataIntelligenceApplications/venv/lib/python3.7/site-packages/sklearn/gaussian_process/_gpr.py:370: UserWarning: Predicted variances smaller than 0. Setting those variances to 0.\n",
      "  warnings.warn(\"Predicted variances smaller than 0. \"\n",
      "/Users/08volt/PycharmProjects/DataIntelligenceApplications/venv/lib/python3.7/site-packages/sklearn/gaussian_process/_gpr.py:370: UserWarning: Predicted variances smaller than 0. Setting those variances to 0.\n",
      "  warnings.warn(\"Predicted variances smaller than 0. \"\n",
      "/Users/08volt/PycharmProjects/DataIntelligenceApplications/venv/lib/python3.7/site-packages/sklearn/gaussian_process/_gpr.py:370: UserWarning: Predicted variances smaller than 0. Setting those variances to 0.\n",
      "  warnings.warn(\"Predicted variances smaller than 0. \"\n",
      "/Users/08volt/PycharmProjects/DataIntelligenceApplications/venv/lib/python3.7/site-packages/sklearn/gaussian_process/_gpr.py:370: UserWarning: Predicted variances smaller than 0. Setting those variances to 0.\n",
      "  warnings.warn(\"Predicted variances smaller than 0. \"\n",
      "/Users/08volt/PycharmProjects/DataIntelligenceApplications/venv/lib/python3.7/site-packages/sklearn/gaussian_process/_gpr.py:370: UserWarning: Predicted variances smaller than 0. Setting those variances to 0.\n",
      "  warnings.warn(\"Predicted variances smaller than 0. \"\n",
      "/Users/08volt/PycharmProjects/DataIntelligenceApplications/venv/lib/python3.7/site-packages/sklearn/gaussian_process/_gpr.py:370: UserWarning: Predicted variances smaller than 0. Setting those variances to 0.\n",
      "  warnings.warn(\"Predicted variances smaller than 0. \"\n",
      "/Users/08volt/PycharmProjects/DataIntelligenceApplications/venv/lib/python3.7/site-packages/sklearn/gaussian_process/_gpr.py:370: UserWarning: Predicted variances smaller than 0. Setting those variances to 0.\n",
      "  warnings.warn(\"Predicted variances smaller than 0. \"\n",
      "/Users/08volt/PycharmProjects/DataIntelligenceApplications/venv/lib/python3.7/site-packages/sklearn/gaussian_process/_gpr.py:370: UserWarning: Predicted variances smaller than 0. Setting those variances to 0.\n",
      "  warnings.warn(\"Predicted variances smaller than 0. \"\n",
      "/Users/08volt/PycharmProjects/DataIntelligenceApplications/venv/lib/python3.7/site-packages/sklearn/gaussian_process/_gpr.py:370: UserWarning: Predicted variances smaller than 0. Setting those variances to 0.\n",
      "  warnings.warn(\"Predicted variances smaller than 0. \"\n",
      "/Users/08volt/PycharmProjects/DataIntelligenceApplications/venv/lib/python3.7/site-packages/sklearn/gaussian_process/_gpr.py:370: UserWarning: Predicted variances smaller than 0. Setting those variances to 0.\n",
      "  warnings.warn(\"Predicted variances smaller than 0. \"\n",
      "/Users/08volt/PycharmProjects/DataIntelligenceApplications/venv/lib/python3.7/site-packages/sklearn/gaussian_process/_gpr.py:370: UserWarning: Predicted variances smaller than 0. Setting those variances to 0.\n",
      "  warnings.warn(\"Predicted variances smaller than 0. \"\n",
      "/Users/08volt/PycharmProjects/DataIntelligenceApplications/venv/lib/python3.7/site-packages/sklearn/gaussian_process/_gpr.py:370: UserWarning: Predicted variances smaller than 0. Setting those variances to 0.\n",
      "  warnings.warn(\"Predicted variances smaller than 0. \"\n",
      "/Users/08volt/PycharmProjects/DataIntelligenceApplications/venv/lib/python3.7/site-packages/sklearn/gaussian_process/_gpr.py:370: UserWarning: Predicted variances smaller than 0. Setting those variances to 0.\n",
      "  warnings.warn(\"Predicted variances smaller than 0. \"\n",
      "/Users/08volt/PycharmProjects/DataIntelligenceApplications/venv/lib/python3.7/site-packages/sklearn/gaussian_process/_gpr.py:370: UserWarning: Predicted variances smaller than 0. Setting those variances to 0.\n",
      "  warnings.warn(\"Predicted variances smaller than 0. \"\n",
      "/Users/08volt/PycharmProjects/DataIntelligenceApplications/venv/lib/python3.7/site-packages/sklearn/gaussian_process/_gpr.py:370: UserWarning: Predicted variances smaller than 0. Setting those variances to 0.\n",
      "  warnings.warn(\"Predicted variances smaller than 0. \"\n",
      "/Users/08volt/PycharmProjects/DataIntelligenceApplications/venv/lib/python3.7/site-packages/sklearn/gaussian_process/_gpr.py:370: UserWarning: Predicted variances smaller than 0. Setting those variances to 0.\n",
      "  warnings.warn(\"Predicted variances smaller than 0. \"\n",
      "/Users/08volt/PycharmProjects/DataIntelligenceApplications/venv/lib/python3.7/site-packages/sklearn/gaussian_process/_gpr.py:370: UserWarning: Predicted variances smaller than 0. Setting those variances to 0.\n",
      "  warnings.warn(\"Predicted variances smaller than 0. \"\n",
      "/Users/08volt/PycharmProjects/DataIntelligenceApplications/venv/lib/python3.7/site-packages/sklearn/gaussian_process/_gpr.py:370: UserWarning: Predicted variances smaller than 0. Setting those variances to 0.\n",
      "  warnings.warn(\"Predicted variances smaller than 0. \"\n",
      "/Users/08volt/PycharmProjects/DataIntelligenceApplications/venv/lib/python3.7/site-packages/sklearn/gaussian_process/_gpr.py:370: UserWarning: Predicted variances smaller than 0. Setting those variances to 0.\n",
      "  warnings.warn(\"Predicted variances smaller than 0. \"\n",
      "/Users/08volt/PycharmProjects/DataIntelligenceApplications/venv/lib/python3.7/site-packages/sklearn/gaussian_process/_gpr.py:370: UserWarning: Predicted variances smaller than 0. Setting those variances to 0.\n",
      "  warnings.warn(\"Predicted variances smaller than 0. \"\n",
      "/Users/08volt/PycharmProjects/DataIntelligenceApplications/venv/lib/python3.7/site-packages/sklearn/gaussian_process/_gpr.py:370: UserWarning: Predicted variances smaller than 0. Setting those variances to 0.\n",
      "  warnings.warn(\"Predicted variances smaller than 0. \"\n",
      "/Users/08volt/PycharmProjects/DataIntelligenceApplications/venv/lib/python3.7/site-packages/sklearn/gaussian_process/_gpr.py:370: UserWarning: Predicted variances smaller than 0. Setting those variances to 0.\n",
      "  warnings.warn(\"Predicted variances smaller than 0. \"\n",
      "/Users/08volt/PycharmProjects/DataIntelligenceApplications/venv/lib/python3.7/site-packages/sklearn/gaussian_process/_gpr.py:370: UserWarning: Predicted variances smaller than 0. Setting those variances to 0.\n",
      "  warnings.warn(\"Predicted variances smaller than 0. \"\n",
      "/Users/08volt/PycharmProjects/DataIntelligenceApplications/venv/lib/python3.7/site-packages/sklearn/gaussian_process/_gpr.py:370: UserWarning: Predicted variances smaller than 0. Setting those variances to 0.\n",
      "  warnings.warn(\"Predicted variances smaller than 0. \"\n",
      "/Users/08volt/PycharmProjects/DataIntelligenceApplications/venv/lib/python3.7/site-packages/sklearn/gaussian_process/_gpr.py:370: UserWarning: Predicted variances smaller than 0. Setting those variances to 0.\n",
      "  warnings.warn(\"Predicted variances smaller than 0. \"\n",
      "/Users/08volt/PycharmProjects/DataIntelligenceApplications/venv/lib/python3.7/site-packages/sklearn/gaussian_process/_gpr.py:370: UserWarning: Predicted variances smaller than 0. Setting those variances to 0.\n",
      "  warnings.warn(\"Predicted variances smaller than 0. \"\n",
      "/Users/08volt/PycharmProjects/DataIntelligenceApplications/venv/lib/python3.7/site-packages/sklearn/gaussian_process/_gpr.py:370: UserWarning: Predicted variances smaller than 0. Setting those variances to 0.\n",
      "  warnings.warn(\"Predicted variances smaller than 0. \"\n",
      "/Users/08volt/PycharmProjects/DataIntelligenceApplications/venv/lib/python3.7/site-packages/sklearn/gaussian_process/_gpr.py:370: UserWarning: Predicted variances smaller than 0. Setting those variances to 0.\n",
      "  warnings.warn(\"Predicted variances smaller than 0. \"\n",
      "/Users/08volt/PycharmProjects/DataIntelligenceApplications/venv/lib/python3.7/site-packages/sklearn/gaussian_process/_gpr.py:370: UserWarning: Predicted variances smaller than 0. Setting those variances to 0.\n",
      "  warnings.warn(\"Predicted variances smaller than 0. \"\n",
      "/Users/08volt/PycharmProjects/DataIntelligenceApplications/venv/lib/python3.7/site-packages/sklearn/gaussian_process/_gpr.py:370: UserWarning: Predicted variances smaller than 0. Setting those variances to 0.\n",
      "  warnings.warn(\"Predicted variances smaller than 0. \"\n",
      "/Users/08volt/PycharmProjects/DataIntelligenceApplications/venv/lib/python3.7/site-packages/sklearn/gaussian_process/_gpr.py:370: UserWarning: Predicted variances smaller than 0. Setting those variances to 0.\n",
      "  warnings.warn(\"Predicted variances smaller than 0. \"\n",
      "/Users/08volt/PycharmProjects/DataIntelligenceApplications/venv/lib/python3.7/site-packages/sklearn/gaussian_process/_gpr.py:370: UserWarning: Predicted variances smaller than 0. Setting those variances to 0.\n",
      "  warnings.warn(\"Predicted variances smaller than 0. \"\n",
      "/Users/08volt/PycharmProjects/DataIntelligenceApplications/venv/lib/python3.7/site-packages/sklearn/gaussian_process/_gpr.py:370: UserWarning: Predicted variances smaller than 0. Setting those variances to 0.\n",
      "  warnings.warn(\"Predicted variances smaller than 0. \"\n",
      "/Users/08volt/PycharmProjects/DataIntelligenceApplications/venv/lib/python3.7/site-packages/sklearn/gaussian_process/_gpr.py:370: UserWarning: Predicted variances smaller than 0. Setting those variances to 0.\n",
      "  warnings.warn(\"Predicted variances smaller than 0. \"\n",
      "/Users/08volt/PycharmProjects/DataIntelligenceApplications/venv/lib/python3.7/site-packages/sklearn/gaussian_process/_gpr.py:370: UserWarning: Predicted variances smaller than 0. Setting those variances to 0.\n",
      "  warnings.warn(\"Predicted variances smaller than 0. \"\n",
      "/Users/08volt/PycharmProjects/DataIntelligenceApplications/venv/lib/python3.7/site-packages/sklearn/gaussian_process/_gpr.py:370: UserWarning: Predicted variances smaller than 0. Setting those variances to 0.\n",
      "  warnings.warn(\"Predicted variances smaller than 0. \"\n",
      "/Users/08volt/PycharmProjects/DataIntelligenceApplications/venv/lib/python3.7/site-packages/sklearn/gaussian_process/_gpr.py:370: UserWarning: Predicted variances smaller than 0. Setting those variances to 0.\n",
      "  warnings.warn(\"Predicted variances smaller than 0. \"\n",
      "/Users/08volt/PycharmProjects/DataIntelligenceApplications/venv/lib/python3.7/site-packages/sklearn/gaussian_process/_gpr.py:370: UserWarning: Predicted variances smaller than 0. Setting those variances to 0.\n",
      "  warnings.warn(\"Predicted variances smaller than 0. \"\n",
      "/Users/08volt/PycharmProjects/DataIntelligenceApplications/venv/lib/python3.7/site-packages/sklearn/gaussian_process/_gpr.py:370: UserWarning: Predicted variances smaller than 0. Setting those variances to 0.\n",
      "  warnings.warn(\"Predicted variances smaller than 0. \"\n",
      "/Users/08volt/PycharmProjects/DataIntelligenceApplications/venv/lib/python3.7/site-packages/sklearn/gaussian_process/_gpr.py:370: UserWarning: Predicted variances smaller than 0. Setting those variances to 0.\n",
      "  warnings.warn(\"Predicted variances smaller than 0. \"\n",
      "/Users/08volt/PycharmProjects/DataIntelligenceApplications/venv/lib/python3.7/site-packages/sklearn/gaussian_process/_gpr.py:370: UserWarning: Predicted variances smaller than 0. Setting those variances to 0.\n",
      "  warnings.warn(\"Predicted variances smaller than 0. \"\n",
      "/Users/08volt/PycharmProjects/DataIntelligenceApplications/venv/lib/python3.7/site-packages/sklearn/gaussian_process/_gpr.py:370: UserWarning: Predicted variances smaller than 0. Setting those variances to 0.\n",
      "  warnings.warn(\"Predicted variances smaller than 0. \"\n",
      "/Users/08volt/PycharmProjects/DataIntelligenceApplications/venv/lib/python3.7/site-packages/sklearn/gaussian_process/_gpr.py:370: UserWarning: Predicted variances smaller than 0. Setting those variances to 0.\n",
      "  warnings.warn(\"Predicted variances smaller than 0. \"\n",
      "/Users/08volt/PycharmProjects/DataIntelligenceApplications/venv/lib/python3.7/site-packages/sklearn/gaussian_process/_gpr.py:370: UserWarning: Predicted variances smaller than 0. Setting those variances to 0.\n",
      "  warnings.warn(\"Predicted variances smaller than 0. \"\n",
      "/Users/08volt/PycharmProjects/DataIntelligenceApplications/venv/lib/python3.7/site-packages/sklearn/gaussian_process/_gpr.py:370: UserWarning: Predicted variances smaller than 0. Setting those variances to 0.\n",
      "  warnings.warn(\"Predicted variances smaller than 0. \"\n",
      "/Users/08volt/PycharmProjects/DataIntelligenceApplications/venv/lib/python3.7/site-packages/sklearn/gaussian_process/_gpr.py:370: UserWarning: Predicted variances smaller than 0. Setting those variances to 0.\n",
      "  warnings.warn(\"Predicted variances smaller than 0. \"\n",
      "/Users/08volt/PycharmProjects/DataIntelligenceApplications/venv/lib/python3.7/site-packages/sklearn/gaussian_process/_gpr.py:370: UserWarning: Predicted variances smaller than 0. Setting those variances to 0.\n",
      "  warnings.warn(\"Predicted variances smaller than 0. \"\n",
      "/Users/08volt/PycharmProjects/DataIntelligenceApplications/venv/lib/python3.7/site-packages/sklearn/gaussian_process/_gpr.py:370: UserWarning: Predicted variances smaller than 0. Setting those variances to 0.\n",
      "  warnings.warn(\"Predicted variances smaller than 0. \"\n",
      "/Users/08volt/PycharmProjects/DataIntelligenceApplications/venv/lib/python3.7/site-packages/sklearn/gaussian_process/_gpr.py:370: UserWarning: Predicted variances smaller than 0. Setting those variances to 0.\n",
      "  warnings.warn(\"Predicted variances smaller than 0. \"\n",
      "/Users/08volt/PycharmProjects/DataIntelligenceApplications/venv/lib/python3.7/site-packages/sklearn/gaussian_process/_gpr.py:370: UserWarning: Predicted variances smaller than 0. Setting those variances to 0.\n",
      "  warnings.warn(\"Predicted variances smaller than 0. \"\n",
      "/Users/08volt/PycharmProjects/DataIntelligenceApplications/venv/lib/python3.7/site-packages/sklearn/gaussian_process/_gpr.py:370: UserWarning: Predicted variances smaller than 0. Setting those variances to 0.\n",
      "  warnings.warn(\"Predicted variances smaller than 0. \"\n",
      "/Users/08volt/PycharmProjects/DataIntelligenceApplications/venv/lib/python3.7/site-packages/sklearn/gaussian_process/_gpr.py:370: UserWarning: Predicted variances smaller than 0. Setting those variances to 0.\n",
      "  warnings.warn(\"Predicted variances smaller than 0. \"\n",
      "/Users/08volt/PycharmProjects/DataIntelligenceApplications/venv/lib/python3.7/site-packages/sklearn/gaussian_process/_gpr.py:370: UserWarning: Predicted variances smaller than 0. Setting those variances to 0.\n",
      "  warnings.warn(\"Predicted variances smaller than 0. \"\n",
      "/Users/08volt/PycharmProjects/DataIntelligenceApplications/venv/lib/python3.7/site-packages/sklearn/gaussian_process/_gpr.py:370: UserWarning: Predicted variances smaller than 0. Setting those variances to 0.\n",
      "  warnings.warn(\"Predicted variances smaller than 0. \"\n"
     ]
    },
    {
     "name": "stdout",
     "output_type": "stream",
     "text": [
      "(50, 3)\n",
      "(50, 3)\n"
     ]
    }
   ],
   "source": [
    "# BISOGNA USARE IL DATAFRAME DI PANDA AL POSTO DEGLI X_OBS E Y_OBS  (PER ORA SONO DATI RIPETUTI)\n",
    "for i in range(0, n_obs):\n",
    "    clicks = []\n",
    "\n",
    "    #scelta dell'arm da pullare per ogni subcampaign:\n",
    "    #si prende l'arm con la varianza maggiore dalla subcampaign i % 3\n",
    "    #dalle altre si prende gli arm in modo casuale e facendo si che la somma si sempre il massimo\n",
    "    #funziona solo con una distribuzione lineare degli arm sull'array bids\n",
    "    first = i % 3\n",
    "    pulled = [0,0,0]\n",
    "    pulled[first] = learners[first].pull_arm()\n",
    "    pulled[(first + 1 )% 3] = np.random.randint(0,n_arms - pulled[first])\n",
    "    pulled[(first + 2 )% 3] = n_arms - pulled[first] - pulled[(first + 1 )% 3] - 1\n",
    "\n",
    "    clicks = env.round(pulled[0],pulled[1],pulled[2])\n",
    "\n",
    "\n",
    "    for x in range(0,n_subcamp):\n",
    "        learners[x].update(pulled[x], clicks[x])\n",
    "    total_click_each_day = total_click_each_day.append({\n",
    "        'bid_sub1':pulled[0],\n",
    "        'bid_sub2':pulled[1],\n",
    "        'bid_sub3':pulled[2],\n",
    "        \"click1\":clicks[0],\n",
    "        \"click2\":clicks[1],\n",
    "        \"click3\":clicks[2]\n",
    "    }, ignore_index=True)\n",
    "\n",
    "    # tabelle di click e arm pullati, da sostituire con il dataframe\n",
    "    y_obs = np.append(y_obs,np.atleast_2d(clicks),0)\n",
    "    x_obs = np.append(x_obs,np.atleast_2d(bids[pulled]),0)\n",
    "\n",
    "print(y_obs.shape)\n",
    "print(x_obs.shape)"
   ]
  },
  {
   "cell_type": "code",
   "execution_count": 4,
   "metadata": {
    "pycharm": {
     "name": "#%%\n"
    }
   },
   "outputs": [
    {
     "data": {
      "text/plain": "<Figure size 432x288 with 1 Axes>",
      "image/png": "[encoded data removed]"
     },
     "metadata": {
      "needs_background": "light"
     },
     "output_type": "display_data"
    },
    {
     "data": {
      "text/plain": "<Figure size 432x288 with 1 Axes>",
      "image/png": "[encoded data removed]"
     },
     "metadata": {
      "needs_background": "light"
     },
     "output_type": "display_data"
    },
    {
     "data": {
      "text/plain": "<Figure size 432x288 with 1 Axes>",
      "image/png": "[encoded data removed]"
     },
     "metadata": {
      "needs_background": "light"
     },
     "output_type": "display_data"
    }
   ],
   "source": [
    "x_pred = np.atleast_2d(bids).T\n",
    "\n",
    "for i in range(0,len(learners)):\n",
    "\n",
    "    X = np.atleast_2d(x_obs[:,i]).T\n",
    "    Y = y_obs[:,i].ravel()\n",
    "\n",
    "    plt.figure()\n",
    "\n",
    "    plt.plot(x_pred, env.subs[i](x_pred), 'r:', label=r'$n(x)$')\n",
    "    plt.plot(X.ravel(), Y, 'ro', label=r'Observed Clicks')\n",
    "    plt.plot(x_pred, learners[i].means, 'b-', label=r'Predicted Clicks')\n",
    "    plt.fill(np.concatenate([x_pred, x_pred[::-1]]),\n",
    "         np.concatenate([learners[i].means - 1.96 * learners[i].sigmas, (learners[i].means + 1.96 * learners[i].sigmas)[::-1]]),\n",
    "         alpha=.5, fc='b', ec='None', label='95% conf interval')\n",
    "    plt.xlabel('$x$')\n",
    "    plt.ylabel('$n(x)$')\n",
    "    plt.legend(loc='lower right')\n",
    "    plt.show()"
   ]
  },
  {
   "cell_type": "markdown",
   "metadata": {
    "pycharm": {
     "name": "#%% md\n"
    }
   },
   "source": [
    "Ora va sviluppato l'algoritmo della tabella\n",
    "per prendera l'alloacazione migliore\n",
    "\n",
    "budget1 + budget2 + budget3 = 1"
   ]
  },
  {
   "cell_type": "code",
   "execution_count": 5,
   "metadata": {
    "pycharm": {
     "name": "#%%\n"
    }
   },
   "outputs": [
    {
     "name": "stdout",
     "output_type": "stream",
     "text": [
      "[[-2.87758797e-02  3.38841413e+01  5.61312397e+01  7.09453939e+01\n",
      "   8.11105312e+01  8.78485459e+01  9.15811112e+01  9.29612483e+01\n",
      "   9.35110871e+01  9.53302495e+01  9.96371615e+01]\n",
      " [ 6.25034336e-02  3.99482412e+01  6.33983226e+01  7.75228330e+01\n",
      "   8.56997374e+01  9.10836769e+01  9.58923763e+01  9.94722785e+01\n",
      "   9.87345475e+01  9.39525623e+01  1.01261357e+02]\n",
      " [ 7.12154906e-02  4.78273516e+01  7.53775418e+01  8.99731230e+01\n",
      "   9.63182553e+01  9.84335811e+01  9.94166349e+01  1.00431490e+02\n",
      "   1.00537370e+02  9.86968156e+01  9.85926867e+01]]\n"
     ]
    }
   ],
   "source": [
    "table_all_Subs = np.ndarray(shape=(0,len(bids)), dtype=float)\n",
    "for l in learners:\n",
    "    table_all_Subs = np.append(table_all_Subs,np.atleast_2d(l.means.T),0)\n",
    "\n",
    "print(table_all_Subs)"
   ]
  },
  {
   "cell_type": "markdown",
   "source": [
    "ALGORITMO DELLA TABELLA:"
   ],
   "metadata": {
    "collapsed": false,
    "pycharm": {
     "name": "#%% md\n"
    }
   }
  },
  {
   "cell_type": "code",
   "execution_count": 6,
   "metadata": {
    "pycharm": {
     "name": "#%%\n"
    }
   },
   "outputs": [],
   "source": [
    "algorithm_table = np.ndarray(shape=(0,len(bids)), dtype=float)\n",
    "\n",
    "for l in learners:\n",
    "   algorithm_table = np.append(algorithm_table,np.atleast_2d(np.zeros(len(bids))),0)\n",
    "\n",
    "algorithm_table[0,:] = table_all_Subs[0,:]\n",
    "\n",
    "allocations_table = [[[0],[1],[2],[3],[4],[5],[6],[7],[8],[9],[10]]]\n",
    "\n",
    "\n",
    "for i in range(1, n_subcamp):\n",
    "    allocations_table.append([[],[],[],[],[],[],[],[],[],[],[]])\n",
    "\n",
    "    for j in range(0, len(bids)):\n",
    "        possibilities = np.array([])\n",
    "        poss_allocation = []\n",
    "        for p in range(0,j+1):\n",
    "            #if bids[p] + bids[j-p] <= bids[j] :\n",
    "            possibilities = np.append(possibilities, table_all_Subs[i,p]+algorithm_table[i-1,j-p])\n",
    "            poss_allocation.append(allocations_table[i-1][j-p] + [p])\n",
    "            #print(str(i)+\" \"+ str(p) + \" \"+ str(j-p))\n",
    "\n",
    "        max_index = np.argmax(possibilities)\n",
    "        #print(poss_allocation)\n",
    "        #print(possibilities)\n",
    "\n",
    "        #print(max_index)\n",
    "        algorithm_table[i,j] = possibilities[max_index]\n",
    "        allocations_table[i][j] = poss_allocation[max_index]\n"
   ]
  },
  {
   "cell_type": "markdown",
   "source": [
    "Applicare l'algoritmo della tabella alla curva ideale per trovare l'optimal\n",
    "sottrarre i reward (somma dei click) di ogni turno dall'optimal trovato \n",
    "Plottare il regret sommando le differenze"
   ],
   "metadata": {
    "collapsed": false,
    "pycharm": {
     "name": "#%% md\n"
    }
   }
  },
  {
   "cell_type": "code",
   "execution_count": 7,
   "metadata": {},
   "outputs": [
    {
     "name": "stdout",
     "output_type": "stream",
     "text": [
      "[[0, 0, 0], [0, 0, 1], [0, 1, 1], [1, 1, 1], [1, 1, 2], [1, 2, 2], [2, 2, 2], [3, 2, 2], [3, 2, 3], [3, 3, 3], [4, 3, 3]]\n",
      "248.6064871127559\n",
      "    bid_sub1  bid_sub2  bid_sub3      click1      click2      click3\n",
      "0        0.0       7.0       3.0    0.000000  103.145905   86.419161\n",
      "1        7.0       0.0       3.0   92.642327    0.000000   93.339236\n",
      "2        0.0       0.0      10.0    0.000000    0.000000   89.312625\n",
      "3       10.0       0.0       0.0  100.113967    0.000000    0.000000\n",
      "4        0.0      10.0       0.0    0.000000   98.886568    0.000000\n",
      "5        2.0       1.0       7.0   59.513781   31.824650  109.420317\n",
      "6        5.0       3.0       2.0   83.961010   72.042277   73.239552\n",
      "7        0.0       9.0       1.0    0.000000   97.441727   44.364047\n",
      "8        2.0       5.0       3.0   49.277383  101.223140   87.210129\n",
      "9        7.0       3.0       0.0   92.352069   74.515047    0.000000\n",
      "10       0.0       4.0       6.0    0.000000   91.232098   99.571841\n",
      "11       2.0       2.0       6.0   60.404276   63.658413   93.122268\n",
      "12       5.0       3.0       2.0   80.037800   76.252282   74.048995\n",
      "13       2.0       2.0       6.0   60.139392   67.225781  106.441898\n",
      "14       3.0       7.0       0.0   74.301460   92.997892    0.000000\n",
      "15       0.0       6.0       4.0    0.000000   94.480806   89.614486\n",
      "16       5.0       5.0       0.0   88.859422   80.861908    0.000000\n",
      "17       0.0      10.0       0.0    0.000000  104.570693    0.000000\n",
      "18      10.0       0.0       0.0  101.874672    0.000000    0.000000\n",
      "19       7.0       0.0       3.0   95.372815    0.000000   93.868504\n",
      "20       0.0       0.0      10.0    0.000000    0.000000  103.503122\n",
      "21       6.0       2.0       2.0   91.116203   69.097156   68.643740\n",
      "22       2.0       3.0       5.0   53.380948   73.595029   90.560634\n",
      "23       0.0       1.0       9.0    0.000000   46.947062   94.321997\n",
      "24       7.0       2.0       1.0   92.244181   56.260872   55.757940\n",
      "25       2.0       0.0       8.0   57.075898    0.000000   97.590223\n",
      "26       2.0       8.0       0.0   44.138800   94.856513    0.000000\n",
      "27       0.0       0.0      10.0    0.000000    0.000000  101.497994\n",
      "28      10.0       0.0       0.0   94.142853    0.000000    0.000000\n",
      "29       1.0       0.0       9.0   34.202215    0.000000   94.997155\n",
      "30       0.0       8.0       2.0    0.000000  106.249724   76.440817\n",
      "31       1.0       5.0       4.0   41.414850   78.424639   95.167967\n",
      "32      10.0       0.0       0.0  109.630884    0.000000    0.000000\n",
      "33       6.0       0.0       4.0   86.729228    0.000000  104.343448\n",
      "34       6.0       1.0       3.0   94.657419   38.992230   93.381196\n",
      "35       0.0       4.0       6.0    0.000000   91.402289   99.486237\n",
      "36       0.0       6.0       4.0    0.000000   94.258335   98.059468\n",
      "37       1.0       0.0       9.0   28.105756    0.000000  108.389254\n",
      "38       0.0       2.0       8.0    0.000000   60.115579   97.473149\n",
      "39       5.0       1.0       4.0   88.947521   48.377761  101.459095\n",
      "40       0.0       0.0      10.0    0.000000    0.000000   99.929372\n",
      "41      10.0       0.0       0.0   92.406952    0.000000    0.000000\n",
      "42       5.0       5.0       0.0   98.721339   87.893221    0.000000\n",
      "43       0.0       6.0       4.0    0.000000   98.777077   92.740539\n",
      "44       2.0       4.0       4.0   72.029363   90.849887   99.501940\n",
      "45       0.0       4.0       6.0    0.000000   94.483365   90.666755\n",
      "46       1.0       9.0       0.0   28.927289   86.811445    0.000000\n",
      "47       3.0       7.0       0.0   57.825086  104.171289    0.000000\n",
      "48       4.0       5.0       1.0   84.918556   91.096700   48.426394\n",
      "49       3.0       1.0       6.0   72.595099   36.950553  104.670617\n"
     ]
    }
   ],
   "source": [
    "print(allocations_table[n_subcamp-1])\n",
    "print(max(algorithm_table[n_subcamp-1]))\n",
    "print(total_click_each_day)\n",
    "\n"
   ]
  }
 ],
 "metadata": {
  "kernelspec": {
   "display_name": "Python 3",
   "language": "python",
   "name": "python3"
  },
  "language_info": {
   "codemirror_mode": {
    "name": "ipython",
    "version": 3
   },
   "file_extension": ".py",
   "mimetype": "text/x-python",
   "name": "python",
   "nbconvert_exporter": "python",
   "pygments_lexer": "ipython3",
   "version": "3.7.3"
  }
 },
 "nbformat": 4,
 "nbformat_minor": 1
}