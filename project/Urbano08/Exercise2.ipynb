{
 "cells": [
  {
   "cell_type": "markdown",
   "metadata": {
    "pycharm": {
     "name": "#%% md\n"
    }
   },
   "source": [
    " 2) Design a combinatorial bandit algorithm to optimize the budget allocation over the three subcampaigns\n",
    "  to maximize the total number of clicks. Plot the cumulative regret.\n",
    "prima si stimano le curve (budget allocato -> numero di click + rumore gaussiano)\\n\",\n",
    "poi crea la tabella e si trova la combinazione migliore di sub per avere il massimo numero di click\\n\",\n",
    "\n",
    "\n",
    "    CURVE\\n\",\n",
    "    MAX_BUDGET * (1.0 - np.exp(-(PARAMETRO_SUB * x))\\n\",\n",
    "\n",
    "    RUMORE: generazione sample con rumore\\n\",\n",
    "    SAMPLE = np.random.normal(CLICK_Y_CURVA, VARIANZA_FISSA)\\n\",\n",
    "    CLICK_Y_CURVA = valore del numero di click preso dalla curva dato un budget x\\n\",\n",
    "\n",
    "   Dai vari SAMPLE si generano le  3 CURVA_GEN con un GP\\n\",\n",
    "\n",
    "    Dalle curve si riempie la prima tabella con i valori di budget prefissati:\n",
    "    0, 10, 20, 30, 40, 50, 60, 70, 80, 90, 100\n",
    "\n",
    "    Si applica l'optimization problem per decidere la combinazione migliore di subcampaign"
   ]
  },
  {
   "cell_type": "code",
   "execution_count": 14,
   "metadata": {
    "pycharm": {
     "name": "#%%\n"
    }
   },
   "outputs": [],
   "source": [
    "import matplotlib.pyplot as plt\n",
    "import numpy as np\n",
    "from project.Urbano08.BiddingEnvironment import BiddingEnvironment\n",
    "from project.Urbano08.Learner import Learner"
   ]
  },
  {
   "cell_type": "code",
   "execution_count": 15,
   "metadata": {
    "pycharm": {
     "name": "#%%\n"
    }
   },
   "outputs": [
    {
     "name": "stdout",
     "output_type": "stream",
     "text": [
      "[0.  0.1 0.2 0.3 0.4 0.5 0.6 0.7 0.8 0.9 1. ]\n"
     ]
    }
   ],
   "source": [
    "n_obs = 50\n",
    "x_obs = np.array([])\n",
    "y_obs = np.array([])\n",
    "\n",
    "max_bid = 1\n",
    "max_clicks = 100\n",
    "n_arms = 11\n",
    "\n",
    "noise_std = 3.0\n",
    "\n",
    "bids = np.linspace(0, max_bid, n_arms)\n",
    "print(bids)\n",
    "\n",
    "env = BiddingEnvironment(bids,max_clicks,noise_std)\n",
    "lern = Learner(n_arms,bids)"
   ]
  },
  {
   "cell_type": "code",
   "execution_count": 16,
   "metadata": {
    "pycharm": {
     "name": "#%%\n"
    }
   },
   "outputs": [
    {
     "name": "stdout",
     "output_type": "stream",
     "text": [
      "0,0.3011792085694973\n",
      "3,67.30659746293647\n",
      "8,98.76917976999523\n",
      "5,89.84724097584812\n",
      "4,75.58319103970625\n",
      "10,97.55778719751329\n",
      "10,104.93953806962213\n",
      "10,95.99181403959658\n",
      "10,100.41511783990109\n",
      "9,98.44668874660972\n",
      "2,50.036293454164415\n",
      "6,92.61063953394282\n",
      "6,86.7629046045993\n",
      "8,98.68972721693697\n",
      "7,89.88950411982768\n",
      "9,100.73245644476445\n",
      "8,102.01363267607286\n",
      "9,99.4078650255015\n",
      "8,97.75732448783536\n",
      "10,96.48223288878276\n",
      "10,100.50702808544136\n",
      "10,96.9621020090595\n",
      "7,91.24844802859145\n",
      "9,92.28409643697981\n",
      "10,102.32261525085195\n",
      "7,95.43098674783346\n",
      "8,93.69907704678342\n",
      "8,94.31363350083227\n",
      "10,97.23613032381446\n",
      "10,99.34497498378005\n",
      "9,100.88393332236643\n",
      "10,99.9743451748711\n",
      "10,95.00199198769684\n",
      "9,98.46985890547569\n",
      "10,98.63749172540709\n",
      "10,93.60394088274307\n",
      "9,90.28900825243844\n",
      "7,93.01624901988542\n",
      "6,93.08584742341749\n",
      "10,99.33936841550111\n",
      "10,100.00604941602028\n",
      "9,97.78688331737995\n",
      "10,94.25967726130827\n",
      "9,99.74494438869847\n",
      "7,96.84467645408135\n",
      "10,96.84048170300625\n",
      "5,84.93180784716115\n",
      "8,94.68204501361545\n",
      "9,96.05054396464706\n",
      "9,96.47055132897864\n"
     ]
    }
   ],
   "source": [
    "for i in range(0, n_obs):\n",
    "\n",
    "    pulled = lern.pull_arm()\n",
    "    clicks = env.round(pulled,0,0)[0]\n",
    "    lern.update(pulled, clicks)\n",
    "    print(str(pulled) + \",\" + str(clicks))\n",
    "    x_obs = np.append(x_obs,bids[pulled])\n",
    "    y_obs = np.append(y_obs,clicks)"
   ]
  },
  {
   "cell_type": "code",
   "execution_count": 17,
   "metadata": {
    "pycharm": {
     "name": "#%%\n"
    }
   },
   "outputs": [
    {
     "name": "stdout",
     "output_type": "stream",
     "text": [
      "[[0. ]\n",
      " [0.1]\n",
      " [0.2]\n",
      " [0.3]\n",
      " [0.4]\n",
      " [0.5]\n",
      " [0.6]\n",
      " [0.7]\n",
      " [0.8]\n",
      " [0.9]\n",
      " [1. ]]\n"
     ]
    },
    {
     "data": {
      "text/plain": "<Figure size 432x288 with 1 Axes>",
      "image/png": "[encoded data removed]"
     },
     "metadata": {
      "needs_background": "light"
     },
     "output_type": "display_data"
    }
   ],
   "source": [
    "x_pred = np.atleast_2d(bids).T\n",
    "X = np.atleast_2d(x_obs).T\n",
    "Y = y_obs.ravel()\n",
    "print(x_pred)\n",
    "plt.figure()\n",
    "plt.plot(x_pred, env.bid_sub1(x_pred), 'r:', label=r'$n(x)$')\n",
    "plt.plot(X.ravel(), Y, 'ro', label=r'Observed Clicks')\n",
    "plt.plot(x_pred, lern.means, 'b-', label=r'Predicted Clicks')\n",
    "plt.fill(np.concatenate([x_pred, x_pred[::-1]]),\n",
    "         np.concatenate([lern.means - 1.96 * lern.sigmas, (lern.means + 1.96 * lern.sigmas)[::-1]]),\n",
    "         alpha=.5, fc='b', ec='None', label='95% conf interval')\n",
    "plt.xlabel('$x$')\n",
    "plt.ylabel('$n(x)$')\n",
    "plt.legend(loc='lower right')\n",
    "plt.show()"
   ]
  }
 ],
 "metadata": {
  "kernelspec": {
   "display_name": "Python 3",
   "language": "python",
   "name": "python3"
  },
  "language_info": {
   "codemirror_mode": {
    "name": "ipython",
    "version": 3
   },
   "file_extension": ".py",
   "mimetype": "text/x-python",
   "name": "python",
   "nbconvert_exporter": "python",
   "pygments_lexer": "ipython3",
   "version": "3.7.3"
  }
 },
 "nbformat": 4,
 "nbformat_minor": 1
}