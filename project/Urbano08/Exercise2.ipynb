{
 "cells": [
  {
   "cell_type": "markdown",
   "source": [
    "1) Imagine:\n",
    "    - one product to sell;\n",
    "    - three classes of users, where, for every user, we can observe the values of two binary features\n",
    "    - the conversion rate curve of each class of users;\n",
    "    - three subcampaigns, each with a different ad, to advertise the product, and each targeting a\n",
    "    different class of users;\n",
    "    - for every subcampaign, the probability distribution over the daily number of clicks\n",
    "    for every value of budget allocated to that subcampaign.\n",
    "\n",
    "2) Design a combinatorial bandit algorithm to optimize the budget allocation over the three subcampaigns\n",
    "to maximize the total number of clicks when, for simplicity, Plot the cumulative regret.\n",
    "\n",
    "- creare 3 distribuzioni di probabilità, 1 per subcampaign, x = , y = daily click\n",
    "- 1 budget totale\n",
    "- massimizzare numero click totali\n",
    "- (1/3,1/3,1/3)(1/6,1/6,2/3)(1/6,2/3,1/6)(2/3,1/6,1/6)\n",
    "- (20,20,20)(10,10,40)(10,40,10)(40,10,10)\n",
    "\n",
    "\n",
    "-sub1 1/3 10 click\n",
    "-sub2 1/3 15 click\n",
    "-sub3 1/3 8 click\n",
    "- 1/3 1/3 1/3 33 click\n",
    "\n",
    "-sub1 1/6 9 click\n",
    "-sub2 1/6 11 click\n",
    "-sub3 2/3 15 click\n",
    "- 1/6 1/6 2/3 35 click\n",
    "\n",
    "secondo giro estraiamo dalla seconda budget allocation perche ha piu click\n",
    "\n",
    "-sub1 1/6 4 click\n",
    "-sub2 1/6 8 click\n",
    "-sub3 2/3 16 click\n",
    "- 1/6 1/6 2/3 28 click ---> media 28,35 = 31,5\n",
    "\n",
    "\n",
    "\n",
    "\n",
    "\n",
    "\n",
    "\n",
    "\n",
    "\n",
    "\n",
    "\n",
    "\n",
    "\n",
    "\n",
    "\n",
    "\n",
    "\n",
    "\n",
    "\n",
    "\n",
    "\n",
    "\n",
    "\n",
    "\n",
    "\n",
    "\n",
    "\n",
    "\n",
    "\n",
    "\n",
    "\n",
    "\n",
    "\n",
    "\n",
    "\n",
    "\n",
    "\n"
   ],
   "metadata": {
    "collapsed": false,
    "pycharm": {
     "name": "#%% md\n"
    }
   }
  }
 ],
 "metadata": {
  "kernelspec": {
   "display_name": "Python 3",
   "language": "python",
   "name": "python3"
  },
  "language_info": {
   "codemirror_mode": {
    "name": "ipython",
    "version": 2
   },
   "file_extension": ".py",
   "mimetype": "text/x-python",
   "name": "python",
   "nbconvert_exporter": "python",
   "pygments_lexer": "ipython2",
   "version": "2.7.6"
  }
 },
 "nbformat": 4,
 "nbformat_minor": 0
}