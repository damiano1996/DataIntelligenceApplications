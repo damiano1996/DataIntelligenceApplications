{
 "cells": [
  {
   "cell_type": "markdown",
   "source": [
    "The goal is modeling a scenario in which a seller exploits advertising tools to attract more and more users to its website, thus increasing the number of possible buyers. The seller needs to learn simultaneously the conversion rate and the number of users the advertising tools can attract.\n",
    "\n",
    "1) Imagine:\n",
    "    - one product to sell;\n",
    "    - three classes of users, where, for every user, we can observe the values of two binary features (feel free to choose the features and their domains);\n",
    "    - the conversion rate curve of each class of users;\n",
    "    - three subcampaigns, each with a different ad, to advertise the product, and each targeting a different class of users;\n",
    "    - there are three abrupt phases;\n",
    "    - for every abrupt phase and for every subcampaign, the probability distribution over the daily number of clicks for every value of budget allocated to that subcampaign.\n",
    "\n",
    "3) Design a sliding-window combinatorial bandit algorithm for the case, instead, in which there are the three phases aforementioned.\n",
    "Plot the cumulative regret and compare it with the cumulative regret that a non-sliding-window algorithm would obtain.\n",
    "\n",
    "\n",
    "9 curve, 3 fasi"
   ],
   "metadata": {
    "collapsed": false,
    "pycharm": {
     "name": "#%% md\n"
    }
   }
  },
  {
   "cell_type": "code",
   "execution_count": 1,
   "outputs": [],
   "source": [
    "import matplotlib.pyplot as plt\n",
    "import numpy as np\n",
    "from project.Urbano08.AbruptBiddingEnvironment import AbruptBiddingEnvironment\n",
    "from project.Urbano08.DynamicLearner import DynamicLearner\n",
    "from project.Urbano08.Learner import Learner\n",
    "from project.Urbano08.Optimizer import Optimizer as Ta, Optimizer\n",
    "import pandas as pd"
   ],
   "metadata": {
    "collapsed": false,
    "pycharm": {
     "name": "#%%\n"
    }
   }
  },
  {
   "cell_type": "code",
   "execution_count": 2,
   "outputs": [],
   "source": [
    "n_phases = 3\n",
    "len_window = 40\n",
    "phaselen = 60\n",
    "n_obs = 180 #3 abrupt phase\n",
    "print_span = 60 #ogni quanti giorni printare i grafici\n",
    "\n",
    "init_days = 20 #primi giorni si pullano gli arm in modo casuale senza pensare al reward massimo\n",
    "random_sampling = 10\n",
    "\n",
    "n_subcamp = 3\n",
    "\n",
    "max_bid = 1\n",
    "max_clicks = 100\n",
    "n_arms = 11\n",
    "\n",
    "noise_std = 5.0\n",
    "\n",
    "bids = np.linspace(0, max_bid, n_arms)"
   ],
   "metadata": {
    "collapsed": false,
    "pycharm": {
     "name": "#%%\n"
    }
   }
  },
  {
   "cell_type": "code",
   "execution_count": 3,
   "outputs": [
    {
     "name": "stdout",
     "output_type": "stream",
     "text": [
      "PHASES OF 60 DAYS\n",
      "180 TOTAL OBSERVATION\n",
      "DAY: 59\n",
      "PULLED:[5, 0, 5]\n",
      "CLICKS: [ 79.86027306   0.         107.30455552]\n",
      "TOT: 187.16482857859563\n",
      "\n",
      "DAY: 119\n",
      "PULLED:[3, 2, 5]\n",
      "CLICKS: [102.32572704  19.61745613  35.19266609]\n",
      "TOT: 157.13584926324407\n",
      "\n",
      "DAY: 179\n",
      "PULLED:[3, 6, 1]\n",
      "CLICKS: [86.8646005  71.07463597  0.        ]\n",
      "TOT: 157.9392364734557\n",
      "\n"
     ]
    },
    {
     "data": {
      "text/plain": "     bid_sub1  bid_sub2  bid_sub3     click1     click2      click3\n0         9.0       0.0       1.0  92.291670   0.000000   66.307364\n1         6.0       1.0       3.0  89.971467   0.000000   80.424290\n2         0.0       3.0       7.0   0.000000   0.000000  103.396851\n3        10.0       0.0       0.0  96.768147   0.000000    0.000000\n4         0.0      10.0       0.0   0.000000   0.000000    0.000000\n..        ...       ...       ...        ...        ...         ...\n175       3.0       6.0       1.0  94.279335  66.896886    0.000000\n176       3.0       6.0       1.0  93.142275  71.894130    2.073968\n177       3.0       6.0       1.0  95.195267  71.667007    6.372593\n178       3.0       6.0       1.0  89.111621  78.027137    2.259145\n179       3.0       6.0       1.0  86.864601  71.074636    0.000000\n\n[180 rows x 6 columns]",
      "text/html": "<div>\n<style scoped>\n    .dataframe tbody tr th:only-of-type {\n        vertical-align: middle;\n    }\n\n    .dataframe tbody tr th {\n        vertical-align: top;\n    }\n\n    .dataframe thead th {\n        text-align: right;\n    }\n</style>\n<table border=\"1\" class=\"dataframe\">\n  <thead>\n    <tr style=\"text-align: right;\">\n      <th></th>\n      <th>bid_sub1</th>\n      <th>bid_sub2</th>\n      <th>bid_sub3</th>\n      <th>click1</th>\n      <th>click2</th>\n      <th>click3</th>\n    </tr>\n  </thead>\n  <tbody>\n    <tr>\n      <th>0</th>\n      <td>9.0</td>\n      <td>0.0</td>\n      <td>1.0</td>\n      <td>92.291670</td>\n      <td>0.000000</td>\n      <td>66.307364</td>\n    </tr>\n    <tr>\n      <th>1</th>\n      <td>6.0</td>\n      <td>1.0</td>\n      <td>3.0</td>\n      <td>89.971467</td>\n      <td>0.000000</td>\n      <td>80.424290</td>\n    </tr>\n    <tr>\n      <th>2</th>\n      <td>0.0</td>\n      <td>3.0</td>\n      <td>7.0</td>\n      <td>0.000000</td>\n      <td>0.000000</td>\n      <td>103.396851</td>\n    </tr>\n    <tr>\n      <th>3</th>\n      <td>10.0</td>\n      <td>0.0</td>\n      <td>0.0</td>\n      <td>96.768147</td>\n      <td>0.000000</td>\n      <td>0.000000</td>\n    </tr>\n    <tr>\n      <th>4</th>\n      <td>0.0</td>\n      <td>10.0</td>\n      <td>0.0</td>\n      <td>0.000000</td>\n      <td>0.000000</td>\n      <td>0.000000</td>\n    </tr>\n    <tr>\n      <th>...</th>\n      <td>...</td>\n      <td>...</td>\n      <td>...</td>\n      <td>...</td>\n      <td>...</td>\n      <td>...</td>\n    </tr>\n    <tr>\n      <th>175</th>\n      <td>3.0</td>\n      <td>6.0</td>\n      <td>1.0</td>\n      <td>94.279335</td>\n      <td>66.896886</td>\n      <td>0.000000</td>\n    </tr>\n    <tr>\n      <th>176</th>\n      <td>3.0</td>\n      <td>6.0</td>\n      <td>1.0</td>\n      <td>93.142275</td>\n      <td>71.894130</td>\n      <td>2.073968</td>\n    </tr>\n    <tr>\n      <th>177</th>\n      <td>3.0</td>\n      <td>6.0</td>\n      <td>1.0</td>\n      <td>95.195267</td>\n      <td>71.667007</td>\n      <td>6.372593</td>\n    </tr>\n    <tr>\n      <th>178</th>\n      <td>3.0</td>\n      <td>6.0</td>\n      <td>1.0</td>\n      <td>89.111621</td>\n      <td>78.027137</td>\n      <td>2.259145</td>\n    </tr>\n    <tr>\n      <th>179</th>\n      <td>3.0</td>\n      <td>6.0</td>\n      <td>1.0</td>\n      <td>86.864601</td>\n      <td>71.074636</td>\n      <td>0.000000</td>\n    </tr>\n  </tbody>\n</table>\n<p>180 rows × 6 columns</p>\n</div>"
     },
     "execution_count": 3,
     "metadata": {},
     "output_type": "execute_result"
    }
   ],
   "source": [
    "sw_total_click_each_day  = pd.DataFrame(columns=['bid_sub1', 'bid_sub2', 'bid_sub3',\"click1\",\"click2\",\"click3\"])\n",
    "\n",
    "\n",
    "env = AbruptBiddingEnvironment(bids,max_clicks,noise_std,phaselen, n_phases)\n",
    "\n",
    "sw_learners = []\n",
    "\n",
    "\n",
    "for i in range(0, n_subcamp):\n",
    "    sw_learners.append(DynamicLearner(n_arms,bids,len_window))\n",
    "\n",
    "print(f'PHASES OF {env.phaselen} DAYS\\n{n_obs} TOTAL OBSERVATION')\n",
    "\n",
    "\n",
    "\n",
    "for d in range(0, n_obs):\n",
    "    pulled = [0,0,0]\n",
    "    #per i primi init_days giorni si pullano in modo causale, successivamente si usa la tabella\n",
    "    if init_days > 0 or d % random_sampling == 0: #or d % int(len_window/2) == 0:\n",
    "        init_days = init_days - 1\n",
    "        first = d % 3\n",
    "        pulled[first] = sw_learners[first].pull_arm()\n",
    "        pulled[(first + 1 )% 3] = np.random.randint(0,n_arms - pulled[first])\n",
    "        pulled[(first + 2 )% 3] = n_arms - pulled[first] - pulled[(first + 1 )% 3] - 1\n",
    "    else:\n",
    "        #uso l'algoritmo della tabella per selezionare gli arm che mi danno un reward massimo\n",
    "        table_all_Subs = np.ndarray(shape=(0,len(bids)), dtype=float)\n",
    "        for l in sw_learners:\n",
    "            table_all_Subs = np.append(table_all_Subs,np.atleast_2d(l.means.T),0)\n",
    "        pulled = Ta.fit_table(table_all_Subs)[0]\n",
    "\n",
    "\n",
    "    clicks = env.round(pulled[0],pulled[1],pulled[2])\n",
    "\n",
    "\n",
    "    for x in range(0,n_subcamp):\n",
    "        sw_learners[x].update(pulled[x], clicks[x])\n",
    "    sw_total_click_each_day = sw_total_click_each_day.append({\n",
    "        'bid_sub1':pulled[0],\n",
    "        'bid_sub2':pulled[1],\n",
    "        'bid_sub3':pulled[2],\n",
    "        \"click1\":clicks[0],\n",
    "        \"click2\":clicks[1],\n",
    "        \"click3\":clicks[2]\n",
    "    }, ignore_index=True)\n",
    "\n",
    "    if (d+1) % print_span == 0:\n",
    "        #TIME TO PRINT THE PLOTS\n",
    "        print(f\"DAY: {d}\\nPULLED:{pulled}\\nCLICKS: {clicks}\\nTOT: {clicks.sum()}\\n\")\n",
    "\n",
    "        #for l in range(0,len(learners)):\n",
    "            #learners[l].plot(env.subs[l])\n",
    "\n",
    "sw_total_click_each_day"
   ],
   "metadata": {
    "collapsed": false,
    "pycharm": {
     "name": "#%% DYNAMIC LEARNER\n"
    }
   }
  },
  {
   "cell_type": "code",
   "execution_count": 4,
   "outputs": [
    {
     "name": "stdout",
     "output_type": "stream",
     "text": [
      "DAY: 59\n",
      "PULLED:[7, 0, 3]\n",
      "CLICKS: [99.803427    0.         92.83363549]\n",
      "TOT: 192.63706249014888\n",
      "\n",
      "DAY: 119\n",
      "PULLED:[2, 1, 7]\n",
      "CLICKS: [92.57500746 14.83999934 56.65772838]\n",
      "TOT: 164.07273518556906\n",
      "\n",
      "DAY: 179\n",
      "PULLED:[2, 8, 0]\n",
      "CLICKS: [79.5480722  84.57041705  0.        ]\n",
      "TOT: 164.11848925027567\n",
      "\n"
     ]
    }
   ],
   "source": [
    "total_click_each_day  = pd.DataFrame(columns=['bid_sub1', 'bid_sub2', 'bid_sub3',\"click1\",\"click2\",\"click3\"])\n",
    "env = AbruptBiddingEnvironment(bids,max_clicks,noise_std,phaselen, n_phases)\n",
    "\n",
    "learners = []\n",
    "\n",
    "for i in range(0, n_subcamp):\n",
    "    learners.append(Learner(n_arms,bids))\n",
    "\n",
    "for d in range(0, n_obs):\n",
    "    pulled = [0,0,0]\n",
    "    #per i primi init_days giorni si pullano in modo causale, successivamente si usa la tabella\n",
    "    if init_days > 0 or d % random_sampling == 0: #or d % int(len_window/2) == 0:\n",
    "        init_days = init_days - 1\n",
    "        first = d % 3\n",
    "        pulled[first] = sw_learners[first].pull_arm()\n",
    "        pulled[(first + 1 )% 3] = np.random.randint(0,n_arms - pulled[first])\n",
    "        pulled[(first + 2 )% 3] = n_arms - pulled[first] - pulled[(first + 1 )% 3] - 1\n",
    "    else:\n",
    "        #uso l'algoritmo della tabella per selezionare gli arm che mi danno un reward massimo\n",
    "        table_all_Subs = np.ndarray(shape=(0,len(bids)), dtype=float)\n",
    "        for l in sw_learners:\n",
    "            table_all_Subs = np.append(table_all_Subs,np.atleast_2d(l.means.T),0)\n",
    "        pulled = Ta.fit_table(table_all_Subs)[0]\n",
    "\n",
    "\n",
    "    clicks = env.round(pulled[0],pulled[1],pulled[2])\n",
    "\n",
    "\n",
    "    for x in range(0,n_subcamp):\n",
    "        sw_learners[x].update(pulled[x], clicks[x])\n",
    "    total_click_each_day = total_click_each_day.append({\n",
    "        'bid_sub1':pulled[0],\n",
    "        'bid_sub2':pulled[1],\n",
    "        'bid_sub3':pulled[2],\n",
    "        \"click1\":clicks[0],\n",
    "        \"click2\":clicks[1],\n",
    "        \"click3\":clicks[2]\n",
    "    }, ignore_index=True)\n",
    "\n",
    "    if (d+1) % print_span == 0:\n",
    "        #TIME TO PRINT THE PLOTS\n",
    "        print(f\"DAY: {d}\\nPULLED:{pulled}\\nCLICKS: {clicks}\\nTOT: {clicks.sum()}\\n\")\n",
    "\n",
    "\n"
   ],
   "metadata": {
    "collapsed": false,
    "pycharm": {
     "name": "#%% STATIC LEARNER\n"
    }
   }
  },
  {
   "cell_type": "code",
   "execution_count": 5,
   "outputs": [
    {
     "name": "stdout",
     "output_type": "stream",
     "text": [
      "189.09664078218532\n",
      "164.1044269039987\n",
      "168.6197523318644\n"
     ]
    },
    {
     "data": {
      "text/plain": "<Figure size 432x288 with 1 Axes>",
      "image/png": "[encoded data removed]"
     },
     "metadata": {
      "needs_background": "light"
     },
     "output_type": "display_data"
    }
   ],
   "source": [
    "clicks_opt = np.array([])\n",
    "\n",
    "for p in range(0,n_phases):\n",
    "    all_optimal_subs = np.ndarray(shape=(0,len(bids)), dtype=float)\n",
    "    for i in range(0,n_subcamp):\n",
    "        all_optimal_subs = np.append(all_optimal_subs,np.atleast_2d(env.subs[i](bids,p)),0)\n",
    "    opt = Optimizer.fit_table(all_optimal_subs)[1]\n",
    "    print(opt)\n",
    "    for days in range(0,phaselen):\n",
    "        clicks_opt = np.append(clicks_opt, opt)\n",
    "\n",
    "\n",
    "\n",
    "\n",
    "sw_clicks_obtained = sw_total_click_each_day[\"click1\"] + \\\n",
    "                  sw_total_click_each_day[\"click2\"] + \\\n",
    "                  sw_total_click_each_day[\"click3\"]\n",
    "\n",
    "clicks_obtained = total_click_each_day[\"click1\"] + \\\n",
    "                  total_click_each_day[\"click2\"] + \\\n",
    "                  total_click_each_day[\"click3\"]\n",
    "\n",
    "\n",
    "np.cumsum(clicks_opt - sw_clicks_obtained).plot()\n",
    "np.cumsum(clicks_opt - clicks_obtained).plot(color=\"red\")\n",
    "plt.show()\n"
   ],
   "metadata": {
    "collapsed": false,
    "pycharm": {
     "name": "#%% REGRET\n"
    }
   }
  },
  {
   "cell_type": "code",
   "execution_count": 6,
   "outputs": [
    {
     "name": "stdout",
     "output_type": "stream",
     "text": [
      "27958.336774291936\n",
      "28652.486627175065\n"
     ]
    }
   ],
   "source": [
    "print(sum(sw_total_click_each_day[\"click1\"] + \\\n",
    "                  sw_total_click_each_day[\"click2\"] + \\\n",
    "                  sw_total_click_each_day[\"click3\"]))\n",
    "\n",
    "print(sum(total_click_each_day[\"click1\"] + \\\n",
    "                  total_click_each_day[\"click2\"] + \\\n",
    "                  total_click_each_day[\"click3\"]))"
   ],
   "metadata": {
    "collapsed": false,
    "pycharm": {
     "name": "#%%\n"
    }
   }
  }
 ],
 "metadata": {
  "kernelspec": {
   "display_name": "Python 3",
   "language": "python",
   "name": "python3"
  },
  "language_info": {
   "codemirror_mode": {
    "name": "ipython",
    "version": 2
   },
   "file_extension": ".py",
   "mimetype": "text/x-python",
   "name": "python",
   "nbconvert_exporter": "python",
   "pygments_lexer": "ipython2",
   "version": "2.7.6"
  }
 },
 "nbformat": 4,
 "nbformat_minor": 0
}