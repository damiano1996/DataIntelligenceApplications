{
 "cells": [
  {
   "cell_type": "markdown",
   "source": [
    "The goal is modeling a scenario in which a seller exploits advertising tools to attract more and more users to its website, thus increasing the number of possible buyers. The seller needs to learn simultaneously the conversion rate and the number of users the advertising tools can attract.\n",
    "\n",
    "1) Imagine:\n",
    "    - one product to sell;\n",
    "    - three classes of users, where, for every user, we can observe the values of two binary features (feel free to choose the features and their domains);\n",
    "    - the conversion rate curve of each class of users;\n",
    "    - three subcampaigns, each with a different ad, to advertise the product, and each targeting a different class of users;\n",
    "    - there are three abrupt phases;\n",
    "    - for every abrupt phase and for every subcampaign, the probability distribution over the daily number of clicks for every value of budget allocated to that subcampaign.\n",
    "\n",
    "3) Design a sliding-window combinatorial bandit algorithm for the case, instead, in which there are the three phases aforementioned.\n",
    "Plot the cumulative regret and compare it with the cumulative regret that a non-sliding-window algorithm would obtain.\n",
    "\n",
    "\n",
    "9 curve, 3 fasi"
   ],
   "metadata": {
    "collapsed": false,
    "pycharm": {
     "name": "#%% md\n"
    }
   }
  },
  {
   "cell_type": "code",
   "execution_count": 1,
   "outputs": [],
   "source": [
    "import matplotlib.pyplot as plt\n",
    "import numpy as np\n",
    "from project.Urbano08.AbruptBiddingEnvironment import AbruptBiddingEnvironment\n",
    "from project.Urbano08.DynamicLearner import DynamicLearner\n",
    "from project.Urbano08.TableAlgorithm import TableAlgorithm as Ta\n",
    "import pandas as pd"
   ],
   "metadata": {
    "collapsed": false,
    "pycharm": {
     "name": "#%%\n"
    }
   }
  },
  {
   "cell_type": "code",
   "execution_count": 2,
   "outputs": [
    {
     "name": "stdout",
     "output_type": "stream",
     "text": [
      "PHASES OF 80 DAYS\n",
      "WINDOWS OF 0 DAYS\n",
      "161 TOTAL OBSERVATION\n"
     ]
    }
   ],
   "source": [
    "n_phases = 3\n",
    "len_window = 30\n",
    "phaselen = 80\n",
    "n_obs = 161 #3 abrupt phase\n",
    "print_span = 17 #ogni quanti giorni printare i grafici\n",
    "\n",
    "init_days = 20 #primi giorni si pullano gli arm in modo casuale senza pensare al reward massimo\n",
    "\n",
    "n_subcamp = 3\n",
    "\n",
    "max_bid = 1\n",
    "max_clicks = 100\n",
    "n_arms = 11\n",
    "\n",
    "noise_std = 6.0\n",
    "\n",
    "bids = np.linspace(0, max_bid, n_arms)\n",
    "\n",
    "total_click_each_day  = pd.DataFrame(columns=['bid_sub1', 'bid_sub2', 'bid_sub3',\"click1\",\"click2\",\"click3\"])\n",
    "\n",
    "\n",
    "env = AbruptBiddingEnvironment(bids,max_clicks,noise_std,phaselen, n_phases)\n",
    "learners = []\n",
    "\n",
    "for i in range(0, n_subcamp):\n",
    "    learners.append(DynamicLearner(n_arms,bids,len_window))\n",
    "\n",
    "print(f'PHASES OF {env.phaselen} DAYS\\nWINDOWS OF {len(learners[0].pulled_arms)} DAYS\\n{n_obs} TOTAL OBSERVATION')"
   ],
   "metadata": {
    "collapsed": false,
    "pycharm": {
     "name": "#%%\n"
    }
   }
  },
  {
   "cell_type": "code",
   "execution_count": 3,
   "outputs": [
    {
     "name": "stdout",
     "output_type": "stream",
     "text": [
      "DAY: 16\n",
      "PULLED:[2, 5, 3]\n",
      "CLICKS: [61.63401314  0.         95.72923827]\n",
      "TOT: 157.36325141078225\n",
      "\n",
      "DAY: 33\n",
      "PULLED:[7, 0, 3]\n",
      "CLICKS: [106.16201101   0.         102.07986892]\n",
      "TOT: 208.2418799293098\n",
      "\n",
      "DAY: 50\n",
      "PULLED:[10, 0, 0]\n",
      "CLICKS: [111.33593522   0.           0.        ]\n",
      "TOT: 111.33593522439043\n",
      "\n",
      "DAY: 67\n",
      "PULLED:[7, 0, 3]\n",
      "CLICKS: [ 97.09253094   0.         103.79993901]\n",
      "TOT: 200.8924699457964\n",
      "\n",
      "DAY: 84\n",
      "PULLED:[7, 0, 3]\n",
      "CLICKS: [88.99903538  0.          0.        ]\n",
      "TOT: 88.99903537565399\n",
      "\n",
      "DAY: 101\n",
      "PULLED:[1, 6, 3]\n",
      "CLICKS: [88.13919584 49.43221279  0.40266357]\n",
      "TOT: 137.97407219626274\n",
      "\n",
      "DAY: 118\n",
      "PULLED:[1, 9, 0]\n",
      "CLICKS: [86.96785893 53.48941196  0.        ]\n",
      "TOT: 140.45727089330862\n",
      "\n",
      "DAY: 135\n",
      "PULLED:[1, 9, 0]\n",
      "CLICKS: [78.7748688  62.08704984  0.        ]\n",
      "TOT: 140.86191863161594\n",
      "\n",
      "DAY: 152\n",
      "PULLED:[1, 9, 0]\n",
      "CLICKS: [89.84555455 58.22900788  0.        ]\n",
      "TOT: 148.07456242903137\n",
      "\n"
     ]
    },
    {
     "data": {
      "text/plain": "     bid_sub1  bid_sub2  bid_sub3     click1     click2      click3\n0         0.0       3.0       7.0   0.000000   1.354030  104.992042\n1         0.0      10.0       0.0   0.000000   0.000000    0.000000\n2         0.0       9.0       1.0   0.000000   0.000000   64.136639\n3        10.0       0.0       0.0  99.756768   0.000000    0.000000\n4         3.0       6.0       1.0  67.391182   2.704958   61.292459\n..        ...       ...       ...        ...        ...         ...\n156       1.0       9.0       0.0  93.965506  58.610815    0.000000\n157       1.0       9.0       0.0  85.068904  69.132082    0.000000\n158       1.0       9.0       0.0  76.046878  65.587520    0.000000\n159       1.0       9.0       0.0  91.111976  51.814616    0.000000\n160       1.0       9.0       0.0   0.000000  86.567367    0.000000\n\n[161 rows x 6 columns]",
      "text/html": "<div>\n<style scoped>\n    .dataframe tbody tr th:only-of-type {\n        vertical-align: middle;\n    }\n\n    .dataframe tbody tr th {\n        vertical-align: top;\n    }\n\n    .dataframe thead th {\n        text-align: right;\n    }\n</style>\n<table border=\"1\" class=\"dataframe\">\n  <thead>\n    <tr style=\"text-align: right;\">\n      <th></th>\n      <th>bid_sub1</th>\n      <th>bid_sub2</th>\n      <th>bid_sub3</th>\n      <th>click1</th>\n      <th>click2</th>\n      <th>click3</th>\n    </tr>\n  </thead>\n  <tbody>\n    <tr>\n      <th>0</th>\n      <td>0.0</td>\n      <td>3.0</td>\n      <td>7.0</td>\n      <td>0.000000</td>\n      <td>1.354030</td>\n      <td>104.992042</td>\n    </tr>\n    <tr>\n      <th>1</th>\n      <td>0.0</td>\n      <td>10.0</td>\n      <td>0.0</td>\n      <td>0.000000</td>\n      <td>0.000000</td>\n      <td>0.000000</td>\n    </tr>\n    <tr>\n      <th>2</th>\n      <td>0.0</td>\n      <td>9.0</td>\n      <td>1.0</td>\n      <td>0.000000</td>\n      <td>0.000000</td>\n      <td>64.136639</td>\n    </tr>\n    <tr>\n      <th>3</th>\n      <td>10.0</td>\n      <td>0.0</td>\n      <td>0.0</td>\n      <td>99.756768</td>\n      <td>0.000000</td>\n      <td>0.000000</td>\n    </tr>\n    <tr>\n      <th>4</th>\n      <td>3.0</td>\n      <td>6.0</td>\n      <td>1.0</td>\n      <td>67.391182</td>\n      <td>2.704958</td>\n      <td>61.292459</td>\n    </tr>\n    <tr>\n      <th>...</th>\n      <td>...</td>\n      <td>...</td>\n      <td>...</td>\n      <td>...</td>\n      <td>...</td>\n      <td>...</td>\n    </tr>\n    <tr>\n      <th>156</th>\n      <td>1.0</td>\n      <td>9.0</td>\n      <td>0.0</td>\n      <td>93.965506</td>\n      <td>58.610815</td>\n      <td>0.000000</td>\n    </tr>\n    <tr>\n      <th>157</th>\n      <td>1.0</td>\n      <td>9.0</td>\n      <td>0.0</td>\n      <td>85.068904</td>\n      <td>69.132082</td>\n      <td>0.000000</td>\n    </tr>\n    <tr>\n      <th>158</th>\n      <td>1.0</td>\n      <td>9.0</td>\n      <td>0.0</td>\n      <td>76.046878</td>\n      <td>65.587520</td>\n      <td>0.000000</td>\n    </tr>\n    <tr>\n      <th>159</th>\n      <td>1.0</td>\n      <td>9.0</td>\n      <td>0.0</td>\n      <td>91.111976</td>\n      <td>51.814616</td>\n      <td>0.000000</td>\n    </tr>\n    <tr>\n      <th>160</th>\n      <td>1.0</td>\n      <td>9.0</td>\n      <td>0.0</td>\n      <td>0.000000</td>\n      <td>86.567367</td>\n      <td>0.000000</td>\n    </tr>\n  </tbody>\n</table>\n<p>161 rows × 6 columns</p>\n</div>"
     },
     "execution_count": 3,
     "metadata": {},
     "output_type": "execute_result"
    }
   ],
   "source": [
    "for d in range(0, n_obs):\n",
    "    pulled = [0,0,0]\n",
    "    #per i primi init_days giorni si pullano in modo causale, successivamente si usa la tabella\n",
    "    if(init_days > 0):\n",
    "        init_days = init_days - 1\n",
    "        first = d % 3\n",
    "        pulled[first] = learners[first].pull_arm()\n",
    "        pulled[(first + 1 )% 3] = np.random.randint(0,n_arms - pulled[first])\n",
    "        pulled[(first + 2 )% 3] = n_arms - pulled[first] - pulled[(first + 1 )% 3] - 1\n",
    "    else:\n",
    "        #uso l'algoritmo della tabella per selezionare gli arm che mi danno un reward massimo\n",
    "        table_all_Subs = np.ndarray(shape=(0,len(bids)), dtype=float)\n",
    "        for l in learners:\n",
    "            table_all_Subs = np.append(table_all_Subs,np.atleast_2d(l.means.T),0)\n",
    "        pulled = Ta.fit_table(table_all_Subs)[0]\n",
    "\n",
    "\n",
    "    clicks = env.round(pulled[0],pulled[1],pulled[2])\n",
    "\n",
    "\n",
    "    for x in range(0,n_subcamp):\n",
    "        learners[x].update(pulled[x], clicks[x])\n",
    "    total_click_each_day = total_click_each_day.append({\n",
    "        'bid_sub1':pulled[0],\n",
    "        'bid_sub2':pulled[1],\n",
    "        'bid_sub3':pulled[2],\n",
    "        \"click1\":clicks[0],\n",
    "        \"click2\":clicks[1],\n",
    "        \"click3\":clicks[2]\n",
    "    }, ignore_index=True)\n",
    "\n",
    "    if (d+1) % print_span == 0:\n",
    "        #TIME TO PRINT THE PLOTS\n",
    "        print(f\"DAY: {d}\\nPULLED:{pulled}\\nCLICKS: {clicks}\\nTOT: {clicks.sum()}\\n\")\n",
    "\n",
    "        #for i in range(0,len(learners)):\n",
    "\n",
    "            #X = np.atleast_2d(x_obs[:,i]).T\n",
    "            #Y = y_obs[:,i].ravel()\n",
    "\n",
    "            #plt.figure()\n",
    "\n",
    "            #plt.plot(x_pred, env.subs[i](x_pred), 'r:', label=r'$n(x)$')\n",
    "            #plt.plot(X.ravel(), Y, 'ro', label=r'Observed Clicks')\n",
    "            #plt.plot(x_pred, learners[i].means, 'b-', label=r'Predicted Clicks')\n",
    "            #plt.fill(np.concatenate([x_pred, x_pred[::-1]]),\n",
    "             #    np.concatenate([learners[i].means - 1.96 * learners[i].sigmas, (learners[i].means + 1.96 * learners[i].sigmas)[::-1]]),\n",
    "             #    alpha=.5, fc='b', ec='None', label='95% conf interval')\n",
    "            #plt.xlabel('$x$')\n",
    "            #plt.ylabel('$n(x)$')\n",
    "            #plt.legend(loc='lower right')\n",
    "            #plt.show()\n",
    "total_click_each_day\n",
    "\n",
    "\n",
    "\n"
   ],
   "metadata": {
    "collapsed": false,
    "pycharm": {
     "name": "#%%\n"
    }
   }
  }
 ],
 "metadata": {
  "kernelspec": {
   "display_name": "Python 3",
   "language": "python",
   "name": "python3"
  },
  "language_info": {
   "codemirror_mode": {
    "name": "ipython",
    "version": 2
   },
   "file_extension": ".py",
   "mimetype": "text/x-python",
   "name": "python",
   "nbconvert_exporter": "python",
   "pygments_lexer": "ipython2",
   "version": "2.7.6"
  }
 },
 "nbformat": 4,
 "nbformat_minor": 0
}