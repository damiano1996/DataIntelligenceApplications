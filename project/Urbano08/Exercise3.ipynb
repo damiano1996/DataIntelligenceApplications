{
 "cells": [
  {
   "cell_type": "markdown",
   "source": [
    "The goal is modeling a scenario in which a seller exploits advertising tools to attract more and more users to its website, thus increasing the number of possible buyers. The seller needs to learn simultaneously the conversion rate and the number of users the advertising tools can attract.\n",
    "\n",
    "1) Imagine:\n",
    "    - one product to sell;\n",
    "    - three classes of users, where, for every user, we can observe the values of two binary features (feel free to choose the features and their domains);\n",
    "    - the conversion rate curve of each class of users;\n",
    "    - three subcampaigns, each with a different ad, to advertise the product, and each targeting a different class of users;\n",
    "    - there are three abrupt phases;\n",
    "    - for every abrupt phase and for every subcampaign, the probability distribution over the daily number of clicks for every value of budget allocated to that subcampaign.\n",
    "\n",
    "3) Design a sliding-window combinatorial bandit algorithm for the case, instead, in which there are the three phases aforementioned.\n",
    "Plot the cumulative regret and compare it with the cumulative regret that a non-sliding-window algorithm would obtain.\n",
    "\n",
    "\n",
    "9 curve, 3 fasi\n",
    "\n",
    "\n",
    "\n",
    "\n"
   ],
   "metadata": {
    "collapsed": false,
    "pycharm": {
     "name": "#%% md\n"
    }
   }
  }
 ],
 "metadata": {
  "kernelspec": {
   "display_name": "Python 3",
   "language": "python",
   "name": "python3"
  },
  "language_info": {
   "codemirror_mode": {
    "name": "ipython",
    "version": 2
   },
   "file_extension": ".py",
   "mimetype": "text/x-python",
   "name": "python",
   "nbconvert_exporter": "python",
   "pygments_lexer": "ipython2",
   "version": "2.7.6"
  }
 },
 "nbformat": 4,
 "nbformat_minor": 0
}