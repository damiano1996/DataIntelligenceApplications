{
 "cells": [
  {
   "cell_type": "markdown",
   "source": [
    "The goal is modeling a scenario in which a seller exploits advertising tools to attract more and more users to its website, thus increasing the number of possible buyers. The seller needs to learn simultaneously the conversion rate and the number of users the advertising tools can attract.\n",
    "\n",
    "1) Imagine:\n",
    "    - one product to sell;\n",
    "    - three classes of users, where, for every user, we can observe the values of two binary features (feel free to choose the features and their domains);\n",
    "    - the conversion rate curve of each class of users;\n",
    "    - three subcampaigns, each with a different ad, to advertise the product, and each targeting a different class of users;\n",
    "    - there are three abrupt phases;\n",
    "    - for every abrupt phase and for every subcampaign, the probability distribution over the daily number of clicks for every value of budget allocated to that subcampaign.\n",
    "\n",
    "3) Design a sliding-window combinatorial bandit algorithm for the case, instead, in which there are the three phases aforementioned.\n",
    "Plot the cumulative regret and compare it with the cumulative regret that a non-sliding-window algorithm would obtain.\n",
    "\n",
    "\n",
    "9 curve, 3 fasi"
   ],
   "metadata": {
    "collapsed": false,
    "pycharm": {
     "name": "#%% md\n"
    }
   }
  },
  {
   "cell_type": "code",
   "execution_count": 1,
   "outputs": [],
   "source": [
    "import matplotlib.pyplot as plt\n",
    "import numpy as np\n",
    "from project.Urbano08.AbruptBiddingEnvironment import AbruptBiddingEnvironment\n",
    "from project.Urbano08.DynamicLearner import DynamicLearner\n",
    "from project.Urbano08.Learner import Learner\n",
    "from project.Urbano08.Optimizer import Optimizer as Ta, Optimizer\n",
    "import pandas as pd"
   ],
   "metadata": {
    "collapsed": false,
    "pycharm": {
     "name": "#%%\n"
    }
   }
  },
  {
   "cell_type": "code",
   "execution_count": 2,
   "outputs": [],
   "source": [
    "n_phases = 3\n",
    "len_window = 40\n",
    "phaselen = 60\n",
    "n_obs = 180 #3 abrupt phase\n",
    "print_span = 60 #ogni quanti giorni printare i grafici\n",
    "\n",
    "init_days = 20 #primi giorni si pullano gli arm in modo casuale senza pensare al reward massimo\n",
    "random_sampling = 5\n",
    "\n",
    "n_subcamp = 3\n",
    "\n",
    "max_bid = 1\n",
    "max_clicks = 100\n",
    "n_arms = 11\n",
    "\n",
    "noise_std = 5.0\n",
    "\n",
    "bids = np.linspace(0, max_bid, n_arms)\n"
   ],
   "metadata": {
    "collapsed": false,
    "pycharm": {
     "name": "#%%\n"
    }
   }
  },
  {
   "cell_type": "markdown",
   "source": [
    "# DYNAMIC LEARNER\n",
    "Learner with sliding window"
   ],
   "metadata": {
    "collapsed": false,
    "pycharm": {
     "name": "#%% md\n"
    }
   }
  },
  {
   "cell_type": "code",
   "execution_count": 3,
   "outputs": [
    {
     "name": "stdout",
     "output_type": "stream",
     "text": [
      "PHASES OF 60 DAYS\n",
      "180 TOTAL OBSERVATION\n",
      "DAY: 59\n",
      "PULLED:[7, 0, 3]\n",
      "CLICKS: [99.00705314  0.         99.72435172]\n",
      "TOT: 198.73140486867652\n",
      "\n",
      "DAY: 119\n",
      "PULLED:[1, 0, 9]\n",
      "CLICKS: [84.98396829  0.         69.34202811]\n",
      "TOT: 154.32599639885711\n",
      "\n",
      "DAY: 179\n",
      "PULLED:[7, 0, 3]\n",
      "CLICKS: [101.62173802   0.           0.        ]\n",
      "TOT: 101.62173802152361\n",
      "\n"
     ]
    }
   ],
   "source": [
    "sw_total_click_each_day  = pd.DataFrame(columns=['bid_sub1', 'bid_sub2', 'bid_sub3',\"click1\",\"click2\",\"click3\"])\n",
    "\n",
    "\n",
    "env = AbruptBiddingEnvironment(bids,max_clicks,noise_std,phaselen, n_phases)\n",
    "\n",
    "sw_learners = []\n",
    "\n",
    "\n",
    "for i in range(0, n_subcamp):\n",
    "    sw_learners.append(DynamicLearner(n_arms,bids,len_window))\n",
    "\n",
    "print(f'PHASES OF {env.phaselen} DAYS\\n{n_obs} TOTAL OBSERVATION')\n",
    "\n",
    "\n",
    "\n",
    "for d in range(0, n_obs):\n",
    "    pulled = [0,0,0]\n",
    "    #per i primi init_days giorni si pullano in modo causale, successivamente si usa la tabella\n",
    "    if init_days > 0:# or d % random_sampling == 0: #or d % int(len_window/2) == 0:\n",
    "        init_days = init_days - 1\n",
    "        first = d % 3\n",
    "        pulled[first] = sw_learners[first].pull_arm()\n",
    "        pulled[(first + 1 )% 3] = np.random.randint(0,n_arms - pulled[first])\n",
    "        pulled[(first + 2 )% 3] = n_arms - pulled[first] - pulled[(first + 1 )% 3] - 1\n",
    "    else:\n",
    "        #uso l'algoritmo della tabella per selezionare gli arm che mi danno un reward massimo\n",
    "        table_all_Subs = np.ndarray(shape=(0,len(bids)), dtype=float)\n",
    "        for l in sw_learners:\n",
    "            table_all_Subs = np.append(table_all_Subs,np.atleast_2d(l.means.T),0)\n",
    "        pulled = Ta.fit_table(table_all_Subs)[0]\n",
    "\n",
    "\n",
    "    clicks = env.round(pulled[0],pulled[1],pulled[2])\n",
    "\n",
    "\n",
    "    for x in range(0,n_subcamp):\n",
    "        sw_learners[x].update(pulled[x], clicks[x])\n",
    "    sw_total_click_each_day = sw_total_click_each_day.append({\n",
    "        'bid_sub1':pulled[0],\n",
    "        'bid_sub2':pulled[1],\n",
    "        'bid_sub3':pulled[2],\n",
    "        \"click1\":clicks[0],\n",
    "        \"click2\":clicks[1],\n",
    "        \"click3\":clicks[2]\n",
    "    }, ignore_index=True)\n",
    "\n",
    "    if (d+1) % print_span == 0:\n",
    "        #TIME TO PRINT THE PLOTS\n",
    "        print(f\"DAY: {d}\\nPULLED:{pulled}\\nCLICKS: {clicks}\\nTOT: {clicks.sum()}\\n\")\n",
    "\n",
    "        #for l in range(0,len(learners)):\n",
    "            #learners[l].plot(env.subs[l])\n"
   ],
   "metadata": {
    "collapsed": false,
    "pycharm": {
     "name": "#%% DYNAMIC LEARNER\n"
    }
   }
  },
  {
   "cell_type": "markdown",
   "source": [
    "# STATIC LEARNER\n",
    "Learner without sliding window\n"
   ],
   "metadata": {
    "collapsed": false
   }
  },
  {
   "cell_type": "code",
   "execution_count": 4,
   "outputs": [
    {
     "name": "stdout",
     "output_type": "stream",
     "text": [
      "DAY: 59\n",
      "PULLED:[6, 0, 4]\n",
      "CLICKS: [ 88.08004481   0.         101.83984407]\n",
      "TOT: 189.9198888825598\n",
      "\n",
      "DAY: 119\n",
      "PULLED:[6, 0, 4]\n",
      "CLICKS: [105.65410518   0.          25.37530013]\n",
      "TOT: 131.02940530475044\n",
      "\n",
      "DAY: 179\n",
      "PULLED:[6, 0, 4]\n",
      "CLICKS: [96.0862714  0.         0.       ]\n",
      "TOT: 96.08627139639943\n",
      "\n"
     ]
    },
    {
     "name": "stderr",
     "output_type": "stream",
     "text": [
      "c:\\users\\antonio_2\\pycharmprojects\\dataintelligenceapplications\\venv\\lib\\site-packages\\sklearn\\gaussian_process\\_gpr.py:494: ConvergenceWarning: lbfgs failed to converge (status=2):\n",
      "ABNORMAL_TERMINATION_IN_LNSRCH.\n",
      "\n",
      "Increase the number of iterations (max_iter) or scale the data as shown in:\n",
      "    https://scikit-learn.org/stable/modules/preprocessing.html\n",
      "  _check_optimize_result(\"lbfgs\", opt_res)\n"
     ]
    }
   ],
   "source": [
    "total_click_each_day  = pd.DataFrame(columns=['bid_sub1', 'bid_sub2', 'bid_sub3',\"click1\",\"click2\",\"click3\"])\n",
    "env = AbruptBiddingEnvironment(bids,max_clicks,noise_std,phaselen, n_phases)\n",
    "init_days = 20\n",
    "learners = []\n",
    "\n",
    "for i in range(0, n_subcamp):\n",
    "    learners.append(Learner(n_arms,bids))\n",
    "\n",
    "for d in range(0, n_obs):\n",
    "    pulled = [0,0,0]\n",
    "    #per i primi init_days giorni si pullano in modo causale, successivamente si usa la tabella\n",
    "    if init_days > 0:\n",
    "        init_days = init_days - 1\n",
    "        first = d % 3\n",
    "        pulled[first] = learners[first].pull_arm()\n",
    "        pulled[(first + 1 )% 3] = np.random.randint(0,n_arms - pulled[first])\n",
    "        pulled[(first + 2 )% 3] = n_arms - pulled[first] - pulled[(first + 1 )% 3] - 1\n",
    "    else:\n",
    "        #uso l'algoritmo della tabella per selezionare gli arm che mi danno un reward massimo\n",
    "        table_all_Subs = np.ndarray(shape=(0,len(bids)), dtype=float)\n",
    "        for l in learners:\n",
    "            table_all_Subs = np.append(table_all_Subs,np.atleast_2d(l.means.T),0)\n",
    "        pulled = Ta.fit_table(table_all_Subs)[0]\n",
    "\n",
    "\n",
    "    clicks = env.round(pulled[0],pulled[1],pulled[2])\n",
    "\n",
    "\n",
    "    for x in range(0,n_subcamp):\n",
    "        learners[x].update(pulled[x], clicks[x])\n",
    "    total_click_each_day = total_click_each_day.append({\n",
    "        'bid_sub1':pulled[0],\n",
    "        'bid_sub2':pulled[1],\n",
    "        'bid_sub3':pulled[2],\n",
    "        \"click1\":clicks[0],\n",
    "        \"click2\":clicks[1],\n",
    "        \"click3\":clicks[2]\n",
    "    }, ignore_index=True)\n",
    "\n",
    "    if (d+1) % print_span == 0:\n",
    "        #TIME TO PRINT THE PLOTS\n",
    "        print(f\"DAY: {d}\\nPULLED:{pulled}\\nCLICKS: {clicks}\\nTOT: {clicks.sum()}\\n\")\n",
    "\n"
   ],
   "metadata": {
    "collapsed": false,
    "pycharm": {
     "name": "#%% STATIC LEARNER\n"
    }
   }
  },
  {
   "cell_type": "markdown",
   "source": [
    "# STATIC LEARNER MODIFIED VERSION\n",
    "Modified version of learner without sliding window"
   ],
   "metadata": {
    "collapsed": false
   }
  },
  {
   "cell_type": "code",
   "execution_count": 5,
   "outputs": [
    {
     "name": "stdout",
     "output_type": "stream",
     "text": [
      "DAY: 59\n",
      "PULLED:[7, 0, 3]\n",
      "CLICKS: [101.02611653   0.          94.65187194]\n",
      "TOT: 195.67798847886166\n",
      "\n",
      "DAY: 119\n",
      "PULLED:[5, 2, 3]\n",
      "CLICKS: [98.8885652  18.0320546  28.33315496]\n",
      "TOT: 145.2537747702221\n",
      "\n",
      "DAY: 179\n",
      "PULLED:[3, 4, 3]\n",
      "CLICKS: [98.62878674 50.20178861  2.05306044]\n",
      "TOT: 150.8836357972452\n",
      "\n"
     ]
    }
   ],
   "source": [
    "modified_total_click_each_day  = pd.DataFrame(columns=['bid_sub1', 'bid_sub2', 'bid_sub3',\"click1\",\"click2\",\"click3\"])\n",
    "env = AbruptBiddingEnvironment(bids,max_clicks,noise_std,phaselen, n_phases)\n",
    "init_days = 20\n",
    "learners = []\n",
    "\n",
    "for i in range(0, n_subcamp):\n",
    "    learners.append(Learner(n_arms,bids))\n",
    "\n",
    "for d in range(0, n_obs):\n",
    "    pulled = [0,0,0]\n",
    "    #per i primi init_days giorni si pullano in modo causale, successivamente si usa la tabella\n",
    "    if init_days > 0 or d % random_sampling == 0: #or d % int(len_window/2) == 0:\n",
    "        init_days = init_days - 1\n",
    "        first = d % 3\n",
    "        pulled[first] = learners[first].pull_arm()\n",
    "        pulled[(first + 1 )% 3] = np.random.randint(0,n_arms - pulled[first])\n",
    "        pulled[(first + 2 )% 3] = n_arms - pulled[first] - pulled[(first + 1 )% 3] - 1\n",
    "    else:\n",
    "        #uso l'algoritmo della tabella per selezionare gli arm che mi danno un reward massimo\n",
    "        table_all_Subs = np.ndarray(shape=(0,len(bids)), dtype=float)\n",
    "        for l in learners:\n",
    "            table_all_Subs = np.append(table_all_Subs,np.atleast_2d(l.means.T),0)\n",
    "        pulled = Ta.fit_table(table_all_Subs)[0]\n",
    "\n",
    "\n",
    "    clicks = env.round(pulled[0],pulled[1],pulled[2])\n",
    "\n",
    "\n",
    "    for x in range(0,n_subcamp):\n",
    "        learners[x].update(pulled[x], clicks[x])\n",
    "    modified_total_click_each_day = modified_total_click_each_day.append({\n",
    "        'bid_sub1':pulled[0],\n",
    "        'bid_sub2':pulled[1],\n",
    "        'bid_sub3':pulled[2],\n",
    "        \"click1\":clicks[0],\n",
    "        \"click2\":clicks[1],\n",
    "        \"click3\":clicks[2]\n",
    "    }, ignore_index=True)\n",
    "\n",
    "    if (d+1) % print_span == 0:\n",
    "        #TIME TO PRINT THE PLOTS\n",
    "        print(f\"DAY: {d}\\nPULLED:{pulled}\\nCLICKS: {clicks}\\nTOT: {clicks.sum()}\\n\")\n",
    "\n",
    "\n"
   ],
   "metadata": {
    "collapsed": false,
    "pycharm": {
     "name": "#%% STATIC MODIFIED LEARNER\n"
    }
   }
  },
  {
   "cell_type": "code",
   "execution_count": 6,
   "outputs": [
    {
     "name": "stdout",
     "output_type": "stream",
     "text": [
      "189.09664078218532\n",
      "164.1044269039987\n",
      "168.6197523318644\n"
     ]
    },
    {
     "data": {
      "text/plain": "<Figure size 432x288 with 1 Axes>",
      "image/png": "[encoded data removed]"
     },
     "metadata": {
      "needs_background": "light"
     },
     "output_type": "display_data"
    }
   ],
   "source": [
    "clicks_opt = np.array([])\n",
    "\n",
    "for p in range(0,n_phases):\n",
    "    all_optimal_subs = np.ndarray(shape=(0,len(bids)), dtype=float)\n",
    "    for i in range(0,n_subcamp):\n",
    "        all_optimal_subs = np.append(all_optimal_subs,np.atleast_2d(env.subs[i](bids,p)),0)\n",
    "    opt = Optimizer.fit_table(all_optimal_subs)[1]\n",
    "    print(opt)\n",
    "    for days in range(0,phaselen):\n",
    "        clicks_opt = np.append(clicks_opt, opt)\n",
    "\n",
    "\n",
    "\n",
    "\n",
    "sw_clicks_obtained = sw_total_click_each_day[\"click1\"] + \\\n",
    "                  sw_total_click_each_day[\"click2\"] + \\\n",
    "                  sw_total_click_each_day[\"click3\"]\n",
    "\n",
    "clicks_obtained = total_click_each_day[\"click1\"] + \\\n",
    "                  total_click_each_day[\"click2\"] + \\\n",
    "                  total_click_each_day[\"click3\"]\n",
    "\n",
    "modified_clicks_obtained = modified_total_click_each_day[\"click1\"] + \\\n",
    "                  modified_total_click_each_day[\"click2\"] + \\\n",
    "                  modified_total_click_each_day[\"click3\"]\n",
    "\n",
    "\n",
    "np.cumsum(clicks_opt - sw_clicks_obtained).plot(label=\"Sliding window\")\n",
    "np.cumsum(clicks_opt - clicks_obtained).plot(color=\"red\", label=\"Without sw\")\n",
    "np.cumsum(clicks_opt - modified_clicks_obtained).plot(color=\"green\", label=\"Without sw modified\")\n",
    "plt.legend(loc='lower right')\n",
    "plt.show()\n"
   ],
   "metadata": {
    "collapsed": false,
    "pycharm": {
     "name": "#%% REGRET\n"
    }
   }
  },
  {
   "cell_type": "code",
   "execution_count": 7,
   "outputs": [
    {
     "name": "stdout",
     "output_type": "stream",
     "text": [
      "with sw:\n",
      "24852.28724039114\n",
      "\n",
      "\n",
      "without sw:\n",
      "24379.66082495335\n",
      "\n",
      "\n",
      "modified version without sw:\n",
      "25926.02164957948\n"
     ]
    }
   ],
   "source": [
    "print(\"with sw:\")\n",
    "print(sum(sw_total_click_each_day[\"click1\"] + \\\n",
    "                  sw_total_click_each_day[\"click2\"] + \\\n",
    "                  sw_total_click_each_day[\"click3\"]))\n",
    "print(\"\\n\")\n",
    "\n",
    "print(\"without sw:\")\n",
    "print(sum(total_click_each_day[\"click1\"] + \\\n",
    "                  total_click_each_day[\"click2\"] + \\\n",
    "                  total_click_each_day[\"click3\"]))\n",
    "print(\"\\n\")\n",
    "\n",
    "print(\"modified version without sw:\")\n",
    "print(sum(modified_total_click_each_day[\"click1\"] + \\\n",
    "                  modified_total_click_each_day[\"click2\"] + \\\n",
    "                  modified_total_click_each_day[\"click3\"]))"
   ],
   "metadata": {
    "collapsed": false,
    "pycharm": {
     "name": "#%%\n"
    }
   }
  }
 ],
 "metadata": {
  "kernelspec": {
   "display_name": "Python 3",
   "language": "python",
   "name": "python3"
  },
  "language_info": {
   "codemirror_mode": {
    "name": "ipython",
    "version": 2
   },
   "file_extension": ".py",
   "mimetype": "text/x-python",
   "name": "python",
   "nbconvert_exporter": "python",
   "pygments_lexer": "ipython2",
   "version": "2.7.6"
  }
 },
 "nbformat": 4,
 "nbformat_minor": 0
}