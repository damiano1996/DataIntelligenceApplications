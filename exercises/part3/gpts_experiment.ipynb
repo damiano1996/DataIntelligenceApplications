{
 "cells": [
  {
   "cell_type": "code",
   "execution_count": 1,
   "metadata": {
    "collapsed": true
   },
   "outputs": [],
   "source": [
    "import matplotlib.pyplot as plt\n",
    "import numpy as np\n",
    "\n",
    "from exercises.part3.BiddingEnvironment import BiddingEnvironment\n",
    "from exercises.part3.GPTS_Learner import GPTS_Learner\n",
    "from exercises.part3.GTS_Learner import GTS_Learner"
   ]
  },
  {
   "cell_type": "code",
   "execution_count": 2,
   "outputs": [],
   "source": [
    "n_arms = 20\n",
    "min_bid = 0.0\n",
    "max_bid = 1.0\n",
    "bids = np.linspace(min_bid, max_bid, n_arms)\n",
    "sigma = 10\n",
    "\n",
    "T = 50\n",
    "n_experiments = 50\n",
    "gts_rewards_per_experiment = []\n",
    "gpts_rewards_per_experiment = []"
   ],
   "metadata": {
    "collapsed": false,
    "pycharm": {
     "name": "#%%\n"
    }
   }
  },
  {
   "cell_type": "code",
   "execution_count": 3,
   "outputs": [],
   "source": [
    "for e in range(0, n_experiments):\n",
    "    \n",
    "    env = BiddingEnvironment(bids=bids, sigma=sigma)\n",
    "    \n",
    "    gts_learner = GTS_Learner(n_arms=n_arms)\n",
    "    gpts_learner = GPTS_Learner(n_arms=n_arms, arms=bids)\n",
    "    \n",
    "    for t in range(0, T):\n",
    "\n",
    "        # Gaussian Thomson Sampling\n",
    "        pulled_arm = gts_learner.pull_arm()\n",
    "        reward = env.round(pulled_arm)\n",
    "        gts_learner.update(pulled_arm, reward)\n",
    "        \n",
    "        # GP Thomson Sampling\n",
    "        pulled_arm = gpts_learner.pull_arm()\n",
    "        reward = env.round(pulled_arm)\n",
    "        gpts_learner.update(pulled_arm, reward)\n",
    "        \n",
    "    gts_rewards_per_experiment.append(gts_learner.collected_rewards)\n",
    "    gpts_rewards_per_experiment.append(gpts_learner.collected_rewards)\n",
    "    "
   ],
   "metadata": {
    "collapsed": false,
    "pycharm": {
     "name": "#%%\n"
    }
   }
  },
  {
   "cell_type": "code",
   "execution_count": 4,
   "outputs": [
    {
     "data": {
      "text/plain": "<matplotlib.legend.Legend at 0x7f9f6eaec810>"
     },
     "execution_count": 4,
     "metadata": {},
     "output_type": "execute_result"
    },
    {
     "data": {
      "text/plain": "<Figure size 432x288 with 1 Axes>",
      "image/png": "[encoded data removed]"
     },
     "metadata": {
      "needs_background": "light"
     },
     "output_type": "display_data"
    }
   ],
   "source": [
    "opt = np.max(env.mean)\n",
    "\n",
    "plt.figure(0)\n",
    "plt.ylabel('Regret')\n",
    "plt.xlabel('t')\n",
    "\n",
    "plt.plot(np.cumsum(np.mean(opt - gts_rewards_per_experiment, axis=0)), 'r')\n",
    "plt.plot(np.cumsum(np.mean(opt - gpts_rewards_per_experiment, axis=0)), 'g')\n",
    "\n",
    "plt.legend(['GTS', 'GPTS'])\n"
   ],
   "metadata": {
    "collapsed": false,
    "pycharm": {
     "name": "#%%\n"
    }
   }
  }
 ],
 "metadata": {
  "kernelspec": {
   "display_name": "Python 3",
   "language": "python",
   "name": "python3"
  },
  "language_info": {
   "codemirror_mode": {
    "name": "ipython",
    "version": 2
   },
   "file_extension": ".py",
   "mimetype": "text/x-python",
   "name": "python",
   "nbconvert_exporter": "python",
   "pygments_lexer": "ipython2",
   "version": "2.7.6"
  }
 },
 "nbformat": 4,
 "nbformat_minor": 0
}