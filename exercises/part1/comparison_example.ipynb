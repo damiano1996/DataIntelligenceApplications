{
 "cells": [
  {
   "cell_type": "code",
   "execution_count": 1,
   "outputs": [],
   "source": [
    "import matplotlib.pyplot as plt\n",
    "\n",
    "from exercises.part1.Environment import *\n",
    "from exercises.part1.Greedy_Learner import *\n",
    "from exercises.part1.TS_Learner import *"
   ],
   "metadata": {
    "collapsed": false,
    "pycharm": {
     "name": "#%%\n",
     "is_executing": false
    }
   }
  },
  {
   "cell_type": "code",
   "execution_count": 2,
   "outputs": [],
   "source": [
    "n_arms = 4\n",
    "p = np.array([0.15, 0.1, 0.1, 0.35])\n",
    "opt = p[3]\n",
    "\n",
    "T = 300\n",
    "\n",
    "n_experiments = 1000\n",
    "ts_rewards_per_experiment = []\n",
    "gr_rewards_per_experiment = []"
   ],
   "metadata": {
    "collapsed": false,
    "pycharm": {
     "name": "#%%\n",
     "is_executing": false
    }
   }
  },
  {
   "cell_type": "code",
   "execution_count": 3,
   "outputs": [],
   "source": [
    "for e in range(0, n_experiments):\n",
    "\n",
    "    env = Environment(n_arms=n_arms, probabilities=p)\n",
    "    ts_learner = TS_Learner(n_arms=n_arms)\n",
    "    gr_learner = Greedy_Learner(n_arms=n_arms)\n",
    "\n",
    "    for t in range(0, T):\n",
    "\n",
    "        # Thompson Sampling Learner\n",
    "        pulled_arm = ts_learner.pull_arm()\n",
    "        reward = env.round(pulled_arm)\n",
    "        ts_learner.update(pulled_arm, reward)\n",
    "\n",
    "        # Greedy Learner\n",
    "        pulled_arm = gr_learner.pull_arm()\n",
    "        reward = env.round(pulled_arm)\n",
    "        gr_learner.update(pulled_arm, reward)\n",
    "\n",
    "    ts_rewards_per_experiment.append(ts_learner.collected_rewards)\n",
    "    gr_rewards_per_experiment.append(gr_learner.collected_rewards)"
   ],
   "metadata": {
    "collapsed": false,
    "pycharm": {
     "name": "#%%\n",
     "is_executing": false
    }
   }
  },
  {
   "cell_type": "code",
   "execution_count": 4,
   "outputs": [
    {
     "data": {
      "text/plain": "<matplotlib.legend.Legend at 0x7fd7300c9190>"
     },
     "metadata": {},
     "output_type": "execute_result",
     "execution_count": 4
    },
    {
     "data": {
      "text/plain": "<Figure size 432x288 with 1 Axes>",
      "image/png": "[encoded data removed]"
     },
     "metadata": {
      "needs_background": "light"
     },
     "output_type": "display_data"
    }
   ],
   "source": [
    "plt.xlabel('t')\n",
    "plt.ylabel('Regret')\n",
    "plt.plot(np.cumsum(np.mean(opt - ts_rewards_per_experiment, axis=0)), 'r')\n",
    "plt.plot(np.cumsum(np.mean(opt - gr_rewards_per_experiment, axis=0)), 'g')\n",
    "plt.legend(['TS', 'Greedy'])\n"
   ],
   "metadata": {
    "collapsed": false,
    "pycharm": {
     "name": "#%%\n",
     "is_executing": false
    }
   }
  }
 ],
 "metadata": {
  "kernelspec": {
   "display_name": "Python 3",
   "language": "python",
   "name": "python3"
  },
  "language_info": {
   "codemirror_mode": {
    "name": "ipython",
    "version": 2
   },
   "file_extension": ".py",
   "mimetype": "text/x-python",
   "name": "python",
   "nbconvert_exporter": "python",
   "pygments_lexer": "ipython2",
   "version": "2.7.6"
  },
  "pycharm": {
   "stem_cell": {
    "cell_type": "raw",
    "source": [],
    "metadata": {
     "collapsed": false
    }
   }
  }
 },
 "nbformat": 4,
 "nbformat_minor": 0
}