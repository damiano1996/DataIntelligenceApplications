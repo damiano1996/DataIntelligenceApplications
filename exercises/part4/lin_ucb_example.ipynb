{
 "cells": [
  {
   "cell_type": "code",
   "execution_count": 1,
   "metadata": {
    "collapsed": true,
    "pycharm": {
     "is_executing": false
    }
   },
   "outputs": [],
   "source": [
    "import matplotlib.pyplot as plt\n",
    "import numpy as np\n",
    "\n",
    "from exercises.part4.LinUcbLearner import LinUcbLearner\n",
    "from exercises.part4.LinearMabEnvironment import LinearMabEnvironment"
   ]
  },
  {
   "cell_type": "code",
   "execution_count": 2,
   "outputs": [],
   "source": [
    "n_arms = 10\n",
    "T = 1000\n",
    "n_experiments = 100\n",
    "lin_ucb_rewards_per_experiment = []\n",
    "\n",
    "env = LinearMabEnvironment(n_arms=n_arms,\n",
    "                           dim=10)"
   ],
   "metadata": {
    "collapsed": false,
    "pycharm": {
     "name": "#%%\n",
     "is_executing": false
    }
   }
  },
  {
   "cell_type": "code",
   "execution_count": 3,
   "outputs": [],
   "source": [
    "for e in range(0, n_experiments):\n",
    "    \n",
    "    lin_ucb_learner = LinUcbLearner(arms_features=env.arms_features)\n",
    "    \n",
    "    for t in range(0, T):\n",
    "        pulled_arm = lin_ucb_learner.pull_arm()\n",
    "        reward = env.round(pulled_arm)\n",
    "        lin_ucb_learner.update(pulled_arm, reward)\n",
    "    \n",
    "    lin_ucb_rewards_per_experiment.append(lin_ucb_learner.collected_rewards)\n",
    "    "
   ],
   "metadata": {
    "collapsed": false,
    "pycharm": {
     "name": "#%%\n",
     "is_executing": false
    }
   }
  },
  {
   "cell_type": "code",
   "execution_count": 4,
   "outputs": [
    {
     "data": {
      "text/plain": "<matplotlib.legend.Legend at 0x7f59473f6f50>"
     },
     "metadata": {},
     "output_type": "execute_result",
     "execution_count": 4
    },
    {
     "data": {
      "text/plain": "<Figure size 432x288 with 1 Axes>",
      "image/png": "[encoded data removed]"
     },
     "metadata": {
      "needs_background": "light"
     },
     "output_type": "display_data"
    }
   ],
   "source": [
    "opt = env.opt()\n",
    "\n",
    "plt.figure(0)\n",
    "\n",
    "plt.ylabel('Regret')\n",
    "plt.xlabel('t')\n",
    "\n",
    "plt.plot(np.cumsum(np.mean(opt - lin_ucb_rewards_per_experiment, axis=0)), 'r')\n",
    "plt.legend(['LinUCB'])\n"
   ],
   "metadata": {
    "collapsed": false,
    "pycharm": {
     "name": "#%%\n",
     "is_executing": false
    }
   }
  }
 ],
 "metadata": {
  "kernelspec": {
   "display_name": "Python 3",
   "language": "python",
   "name": "python3"
  },
  "language_info": {
   "codemirror_mode": {
    "name": "ipython",
    "version": 2
   },
   "file_extension": ".py",
   "mimetype": "text/x-python",
   "name": "python",
   "nbconvert_exporter": "python",
   "pygments_lexer": "ipython2",
   "version": "2.7.6"
  },
  "pycharm": {
   "stem_cell": {
    "cell_type": "raw",
    "source": [],
    "metadata": {
     "collapsed": false
    }
   }
  }
 },
 "nbformat": 4,
 "nbformat_minor": 0
}