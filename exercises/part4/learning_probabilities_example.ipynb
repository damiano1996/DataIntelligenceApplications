{
 "cells": [
  {
   "cell_type": "code",
   "execution_count": 1,
   "metadata": {
    "collapsed": true,
    "pycharm": {
     "is_executing": false
    }
   },
   "outputs": [],
   "source": [
    "from exercises.part4.learning_probabilities import *"
   ]
  },
  {
   "cell_type": "code",
   "execution_count": 2,
   "outputs": [],
   "source": [
    "n_nodes = 5\n",
    "n_episodes = 10000\n",
    "prob_matrix = np.random.uniform(0.0, 0.05, (n_nodes, n_nodes))\n",
    "node_index = 4\n",
    "dataset = []"
   ],
   "metadata": {
    "collapsed": false,
    "pycharm": {
     "name": "#%%\n",
     "is_executing": false
    }
   }
  },
  {
   "cell_type": "code",
   "execution_count": 3,
   "outputs": [],
   "source": [
    "for e in range(0, n_episodes):\n",
    "    dataset.append(simulate_episode(init_prob_matrix=prob_matrix,\n",
    "                                    n_steps_max=10))\n",
    "    "
   ],
   "metadata": {
    "collapsed": false,
    "pycharm": {
     "name": "#%%\n",
     "is_executing": false
    }
   }
  },
  {
   "cell_type": "code",
   "execution_count": 4,
   "outputs": [
    {
     "name": "stdout",
     "text": [
      "True P Matrix: [0.04247908 0.00934152 0.0323787  0.01947806 0.03177497]\n",
      "Estimated P Matrix: [0.03605016 0.01112235 0.03044872 0.02148228 0.        ]\n"
     ],
     "output_type": "stream"
    },
    {
     "name": "stderr",
     "text": [
      "/home/damiano/PycharmProjects/DataIntelligenceApplications/exercises/part4/learning_probabilities.py:45: RuntimeWarning: invalid value encountered in true_divide\n",
      "  estimated_prob = credits / occurr_v_active\n"
     ],
     "output_type": "stream"
    }
   ],
   "source": [
    "estimated_prob = estimate_probabilities(dataset=dataset,\n",
    "                                        node_index=node_index,\n",
    "                                        n_nodes=n_nodes)\n",
    "\n",
    "print('True P Matrix:', prob_matrix[:, 4])\n",
    "print('Estimated P Matrix:', estimated_prob)\n"
   ],
   "metadata": {
    "collapsed": false,
    "pycharm": {
     "name": "#%%\n",
     "is_executing": false
    }
   }
  }
 ],
 "metadata": {
  "kernelspec": {
   "display_name": "Python 3",
   "language": "python",
   "name": "python3"
  },
  "language_info": {
   "codemirror_mode": {
    "name": "ipython",
    "version": 2
   },
   "file_extension": ".py",
   "mimetype": "text/x-python",
   "name": "python",
   "nbconvert_exporter": "python",
   "pygments_lexer": "ipython2",
   "version": "2.7.6"
  },
  "pycharm": {
   "stem_cell": {
    "cell_type": "raw",
    "source": [],
    "metadata": {
     "collapsed": false
    }
   }
  }
 },
 "nbformat": 4,
 "nbformat_minor": 0
}